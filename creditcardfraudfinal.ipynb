{
 "cells": [
  {
   "cell_type": "markdown",
   "metadata": {},
   "source": [
    "# Credit Card Fraud Detection"
   ]
  },
  {
   "cell_type": "code",
   "execution_count": 1,
   "metadata": {
    "_cell_guid": "b1076dfc-b9ad-4769-8c92-a6c4dae69d19",
    "_uuid": "8f2839f25d086af736a60e9eeb907d3b93b6e0e5",
    "execution": {
     "iopub.execute_input": "2022-12-04T17:18:12.613495Z",
     "iopub.status.busy": "2022-12-04T17:18:12.613240Z",
     "iopub.status.idle": "2022-12-04T17:18:12.617819Z",
     "shell.execute_reply": "2022-12-04T17:18:12.617060Z",
     "shell.execute_reply.started": "2022-12-04T17:18:12.613465Z"
    }
   },
   "outputs": [],
   "source": [
    "import numpy as np\n",
    "import pandas as pd\n",
    "import matplotlib.pyplot as plt\n",
    "import seaborn as sns\n",
    "from imblearn.under_sampling import RandomUnderSampler\n",
    "from sklearn.ensemble import RandomForestClassifier\n",
    "from sklearn.model_selection import GridSearchCV\n",
    "import os"
   ]
  },
  {
   "cell_type": "markdown",
   "metadata": {},
   "source": [
    "# import dataset test and train"
   ]
  },
  {
   "cell_type": "code",
   "execution_count": 2,
   "metadata": {
    "execution": {
     "iopub.execute_input": "2022-12-04T17:18:12.623467Z",
     "iopub.status.busy": "2022-12-04T17:18:12.623108Z",
     "iopub.status.idle": "2022-12-04T17:18:19.528606Z",
     "shell.execute_reply": "2022-12-04T17:18:19.527793Z",
     "shell.execute_reply.started": "2022-12-04T17:18:12.623440Z"
    }
   },
   "outputs": [
    {
     "name": "stdout",
     "output_type": "stream",
     "text": [
      "Train fraud Data size= (1296675, 23)\n",
      "Test fraud Data size= (555719, 23)\n"
     ]
    }
   ],
   "source": [
    "train_df = pd.read_csv('fraudTrain/fraudTrain.csv')\n",
    "test_df = pd.read_csv('fraudTest/fraudTest.csv')\n",
    "print(\"Train fraud Data size=\",train_df.shape)\n",
    "print(\"Test fraud Data size=\",test_df.shape)"
   ]
  },
  {
   "cell_type": "code",
   "execution_count": 3,
   "metadata": {
    "execution": {
     "iopub.execute_input": "2022-12-04T17:18:19.530761Z",
     "iopub.status.busy": "2022-12-04T17:18:19.530317Z",
     "iopub.status.idle": "2022-12-04T17:18:19.923297Z",
     "shell.execute_reply": "2022-12-04T17:18:19.922539Z",
     "shell.execute_reply.started": "2022-12-04T17:18:19.530722Z"
    }
   },
   "outputs": [
    {
     "name": "stdout",
     "output_type": "stream",
     "text": [
      "         Unnamed: 0        cc_num           amt           zip           lat  \\\n",
      "count  1.296675e+06  1.296675e+06  1.296675e+06  1.296675e+06  1.296675e+06   \n",
      "mean   6.483370e+05  4.171920e+17  7.035104e+01  4.880067e+04  3.853762e+01   \n",
      "std    3.743180e+05  1.308806e+18  1.603160e+02  2.689322e+04  5.075808e+00   \n",
      "min    0.000000e+00  6.041621e+10  1.000000e+00  1.257000e+03  2.002710e+01   \n",
      "25%    3.241685e+05  1.800429e+14  9.650000e+00  2.623700e+04  3.462050e+01   \n",
      "50%    6.483370e+05  3.521417e+15  4.752000e+01  4.817400e+04  3.935430e+01   \n",
      "75%    9.725055e+05  4.642255e+15  8.314000e+01  7.204200e+04  4.194040e+01   \n",
      "max    1.296674e+06  4.992346e+18  2.894890e+04  9.978300e+04  6.669330e+01   \n",
      "\n",
      "               long      city_pop     unix_time     merch_lat    merch_long  \\\n",
      "count  1.296675e+06  1.296675e+06  1.296675e+06  1.296675e+06  1.296675e+06   \n",
      "mean  -9.022634e+01  8.882444e+04  1.349244e+09  3.853734e+01 -9.022646e+01   \n",
      "std    1.375908e+01  3.019564e+05  1.284128e+07  5.109788e+00  1.377109e+01   \n",
      "min   -1.656723e+02  2.300000e+01  1.325376e+09  1.902779e+01 -1.666712e+02   \n",
      "25%   -9.679800e+01  7.430000e+02  1.338751e+09  3.473357e+01 -9.689728e+01   \n",
      "50%   -8.747690e+01  2.456000e+03  1.349250e+09  3.936568e+01 -8.743839e+01   \n",
      "75%   -8.015800e+01  2.032800e+04  1.359385e+09  4.195716e+01 -8.023680e+01   \n",
      "max   -6.795030e+01  2.906700e+06  1.371817e+09  6.751027e+01 -6.695090e+01   \n",
      "\n",
      "           is_fraud  \n",
      "count  1.296675e+06  \n",
      "mean   5.788652e-03  \n",
      "std    7.586269e-02  \n",
      "min    0.000000e+00  \n",
      "25%    0.000000e+00  \n",
      "50%    0.000000e+00  \n",
      "75%    0.000000e+00  \n",
      "max    1.000000e+00  \n"
     ]
    }
   ],
   "source": [
    "print(train_df.describe())  # General statistics"
   ]
  },
  {
   "cell_type": "code",
   "execution_count": 4,
   "metadata": {
    "execution": {
     "iopub.execute_input": "2022-12-04T17:18:19.925023Z",
     "iopub.status.busy": "2022-12-04T17:18:19.924776Z",
     "iopub.status.idle": "2022-12-04T17:18:19.931325Z",
     "shell.execute_reply": "2022-12-04T17:18:19.930432Z",
     "shell.execute_reply.started": "2022-12-04T17:18:19.924988Z"
    }
   },
   "outputs": [
    {
     "data": {
      "text/plain": [
       "Index(['Unnamed: 0', 'trans_date_trans_time', 'cc_num', 'merchant', 'category',\n",
       "       'amt', 'first', 'last', 'gender', 'street', 'city', 'state', 'zip',\n",
       "       'lat', 'long', 'city_pop', 'job', 'dob', 'trans_num', 'unix_time',\n",
       "       'merch_lat', 'merch_long', 'is_fraud'],\n",
       "      dtype='object')"
      ]
     },
     "execution_count": 4,
     "metadata": {},
     "output_type": "execute_result"
    }
   ],
   "source": [
    "train_df.columns"
   ]
  },
  {
   "cell_type": "markdown",
   "metadata": {},
   "source": [
    "Check data description and null value of train data"
   ]
  },
  {
   "cell_type": "code",
   "execution_count": 5,
   "metadata": {
    "execution": {
     "iopub.execute_input": "2022-12-04T17:18:19.933760Z",
     "iopub.status.busy": "2022-12-04T17:18:19.933470Z",
     "iopub.status.idle": "2022-12-04T17:18:19.961972Z",
     "shell.execute_reply": "2022-12-04T17:18:19.961298Z",
     "shell.execute_reply.started": "2022-12-04T17:18:19.933723Z"
    }
   },
   "outputs": [
    {
     "data": {
      "text/html": [
       "<div>\n",
       "<style scoped>\n",
       "    .dataframe tbody tr th:only-of-type {\n",
       "        vertical-align: middle;\n",
       "    }\n",
       "\n",
       "    .dataframe tbody tr th {\n",
       "        vertical-align: top;\n",
       "    }\n",
       "\n",
       "    .dataframe thead th {\n",
       "        text-align: right;\n",
       "    }\n",
       "</style>\n",
       "<table border=\"1\" class=\"dataframe\">\n",
       "  <thead>\n",
       "    <tr style=\"text-align: right;\">\n",
       "      <th></th>\n",
       "      <th>Unnamed: 0</th>\n",
       "      <th>trans_date_trans_time</th>\n",
       "      <th>cc_num</th>\n",
       "      <th>merchant</th>\n",
       "      <th>category</th>\n",
       "      <th>amt</th>\n",
       "      <th>first</th>\n",
       "      <th>last</th>\n",
       "      <th>gender</th>\n",
       "      <th>street</th>\n",
       "      <th>...</th>\n",
       "      <th>lat</th>\n",
       "      <th>long</th>\n",
       "      <th>city_pop</th>\n",
       "      <th>job</th>\n",
       "      <th>dob</th>\n",
       "      <th>trans_num</th>\n",
       "      <th>unix_time</th>\n",
       "      <th>merch_lat</th>\n",
       "      <th>merch_long</th>\n",
       "      <th>is_fraud</th>\n",
       "    </tr>\n",
       "  </thead>\n",
       "  <tbody>\n",
       "    <tr>\n",
       "      <th>0</th>\n",
       "      <td>0</td>\n",
       "      <td>2020-06-21 12:14:25</td>\n",
       "      <td>2291163933867244</td>\n",
       "      <td>fraud_Kirlin and Sons</td>\n",
       "      <td>personal_care</td>\n",
       "      <td>2.86</td>\n",
       "      <td>Jeff</td>\n",
       "      <td>Elliott</td>\n",
       "      <td>M</td>\n",
       "      <td>351 Darlene Green</td>\n",
       "      <td>...</td>\n",
       "      <td>33.9659</td>\n",
       "      <td>-80.9355</td>\n",
       "      <td>333497</td>\n",
       "      <td>Mechanical engineer</td>\n",
       "      <td>1968-03-19</td>\n",
       "      <td>2da90c7d74bd46a0caf3777415b3ebd3</td>\n",
       "      <td>1371816865</td>\n",
       "      <td>33.986391</td>\n",
       "      <td>-81.200714</td>\n",
       "      <td>0</td>\n",
       "    </tr>\n",
       "    <tr>\n",
       "      <th>1</th>\n",
       "      <td>1</td>\n",
       "      <td>2020-06-21 12:14:33</td>\n",
       "      <td>3573030041201292</td>\n",
       "      <td>fraud_Sporer-Keebler</td>\n",
       "      <td>personal_care</td>\n",
       "      <td>29.84</td>\n",
       "      <td>Joanne</td>\n",
       "      <td>Williams</td>\n",
       "      <td>F</td>\n",
       "      <td>3638 Marsh Union</td>\n",
       "      <td>...</td>\n",
       "      <td>40.3207</td>\n",
       "      <td>-110.4360</td>\n",
       "      <td>302</td>\n",
       "      <td>Sales professional, IT</td>\n",
       "      <td>1990-01-17</td>\n",
       "      <td>324cc204407e99f51b0d6ca0055005e7</td>\n",
       "      <td>1371816873</td>\n",
       "      <td>39.450498</td>\n",
       "      <td>-109.960431</td>\n",
       "      <td>0</td>\n",
       "    </tr>\n",
       "    <tr>\n",
       "      <th>2</th>\n",
       "      <td>2</td>\n",
       "      <td>2020-06-21 12:14:53</td>\n",
       "      <td>3598215285024754</td>\n",
       "      <td>fraud_Swaniawski, Nitzsche and Welch</td>\n",
       "      <td>health_fitness</td>\n",
       "      <td>41.28</td>\n",
       "      <td>Ashley</td>\n",
       "      <td>Lopez</td>\n",
       "      <td>F</td>\n",
       "      <td>9333 Valentine Point</td>\n",
       "      <td>...</td>\n",
       "      <td>40.6729</td>\n",
       "      <td>-73.5365</td>\n",
       "      <td>34496</td>\n",
       "      <td>Librarian, public</td>\n",
       "      <td>1970-10-21</td>\n",
       "      <td>c81755dbbbea9d5c77f094348a7579be</td>\n",
       "      <td>1371816893</td>\n",
       "      <td>40.495810</td>\n",
       "      <td>-74.196111</td>\n",
       "      <td>0</td>\n",
       "    </tr>\n",
       "    <tr>\n",
       "      <th>3</th>\n",
       "      <td>3</td>\n",
       "      <td>2020-06-21 12:15:15</td>\n",
       "      <td>3591919803438423</td>\n",
       "      <td>fraud_Haley Group</td>\n",
       "      <td>misc_pos</td>\n",
       "      <td>60.05</td>\n",
       "      <td>Brian</td>\n",
       "      <td>Williams</td>\n",
       "      <td>M</td>\n",
       "      <td>32941 Krystal Mill Apt. 552</td>\n",
       "      <td>...</td>\n",
       "      <td>28.5697</td>\n",
       "      <td>-80.8191</td>\n",
       "      <td>54767</td>\n",
       "      <td>Set designer</td>\n",
       "      <td>1987-07-25</td>\n",
       "      <td>2159175b9efe66dc301f149d3d5abf8c</td>\n",
       "      <td>1371816915</td>\n",
       "      <td>28.812398</td>\n",
       "      <td>-80.883061</td>\n",
       "      <td>0</td>\n",
       "    </tr>\n",
       "    <tr>\n",
       "      <th>4</th>\n",
       "      <td>4</td>\n",
       "      <td>2020-06-21 12:15:17</td>\n",
       "      <td>3526826139003047</td>\n",
       "      <td>fraud_Johnston-Casper</td>\n",
       "      <td>travel</td>\n",
       "      <td>3.19</td>\n",
       "      <td>Nathan</td>\n",
       "      <td>Massey</td>\n",
       "      <td>M</td>\n",
       "      <td>5783 Evan Roads Apt. 465</td>\n",
       "      <td>...</td>\n",
       "      <td>44.2529</td>\n",
       "      <td>-85.0170</td>\n",
       "      <td>1126</td>\n",
       "      <td>Furniture designer</td>\n",
       "      <td>1955-07-06</td>\n",
       "      <td>57ff021bd3f328f8738bb535c302a31b</td>\n",
       "      <td>1371816917</td>\n",
       "      <td>44.959148</td>\n",
       "      <td>-85.884734</td>\n",
       "      <td>0</td>\n",
       "    </tr>\n",
       "  </tbody>\n",
       "</table>\n",
       "<p>5 rows × 23 columns</p>\n",
       "</div>"
      ],
      "text/plain": [
       "   Unnamed: 0 trans_date_trans_time            cc_num  \\\n",
       "0           0   2020-06-21 12:14:25  2291163933867244   \n",
       "1           1   2020-06-21 12:14:33  3573030041201292   \n",
       "2           2   2020-06-21 12:14:53  3598215285024754   \n",
       "3           3   2020-06-21 12:15:15  3591919803438423   \n",
       "4           4   2020-06-21 12:15:17  3526826139003047   \n",
       "\n",
       "                               merchant        category    amt   first  \\\n",
       "0                 fraud_Kirlin and Sons   personal_care   2.86    Jeff   \n",
       "1                  fraud_Sporer-Keebler   personal_care  29.84  Joanne   \n",
       "2  fraud_Swaniawski, Nitzsche and Welch  health_fitness  41.28  Ashley   \n",
       "3                     fraud_Haley Group        misc_pos  60.05   Brian   \n",
       "4                 fraud_Johnston-Casper          travel   3.19  Nathan   \n",
       "\n",
       "       last gender                       street  ...      lat      long  \\\n",
       "0   Elliott      M            351 Darlene Green  ...  33.9659  -80.9355   \n",
       "1  Williams      F             3638 Marsh Union  ...  40.3207 -110.4360   \n",
       "2     Lopez      F         9333 Valentine Point  ...  40.6729  -73.5365   \n",
       "3  Williams      M  32941 Krystal Mill Apt. 552  ...  28.5697  -80.8191   \n",
       "4    Massey      M     5783 Evan Roads Apt. 465  ...  44.2529  -85.0170   \n",
       "\n",
       "   city_pop                     job         dob  \\\n",
       "0    333497     Mechanical engineer  1968-03-19   \n",
       "1       302  Sales professional, IT  1990-01-17   \n",
       "2     34496       Librarian, public  1970-10-21   \n",
       "3     54767            Set designer  1987-07-25   \n",
       "4      1126      Furniture designer  1955-07-06   \n",
       "\n",
       "                          trans_num   unix_time  merch_lat  merch_long  \\\n",
       "0  2da90c7d74bd46a0caf3777415b3ebd3  1371816865  33.986391  -81.200714   \n",
       "1  324cc204407e99f51b0d6ca0055005e7  1371816873  39.450498 -109.960431   \n",
       "2  c81755dbbbea9d5c77f094348a7579be  1371816893  40.495810  -74.196111   \n",
       "3  2159175b9efe66dc301f149d3d5abf8c  1371816915  28.812398  -80.883061   \n",
       "4  57ff021bd3f328f8738bb535c302a31b  1371816917  44.959148  -85.884734   \n",
       "\n",
       "   is_fraud  \n",
       "0         0  \n",
       "1         0  \n",
       "2         0  \n",
       "3         0  \n",
       "4         0  \n",
       "\n",
       "[5 rows x 23 columns]"
      ]
     },
     "execution_count": 5,
     "metadata": {},
     "output_type": "execute_result"
    }
   ],
   "source": [
    "test_df.head(5)"
   ]
  },
  {
   "cell_type": "code",
   "execution_count": 6,
   "metadata": {
    "execution": {
     "iopub.execute_input": "2022-12-04T17:18:19.963830Z",
     "iopub.status.busy": "2022-12-04T17:18:19.963251Z",
     "iopub.status.idle": "2022-12-04T17:18:20.500158Z",
     "shell.execute_reply": "2022-12-04T17:18:20.499412Z",
     "shell.execute_reply.started": "2022-12-04T17:18:19.963794Z"
    }
   },
   "outputs": [
    {
     "name": "stdout",
     "output_type": "stream",
     "text": [
      "<class 'pandas.core.frame.DataFrame'>\n",
      "RangeIndex: 1296675 entries, 0 to 1296674\n",
      "Data columns (total 23 columns):\n",
      " #   Column                 Non-Null Count    Dtype  \n",
      "---  ------                 --------------    -----  \n",
      " 0   Unnamed: 0             1296675 non-null  int64  \n",
      " 1   trans_date_trans_time  1296675 non-null  object \n",
      " 2   cc_num                 1296675 non-null  int64  \n",
      " 3   merchant               1296675 non-null  object \n",
      " 4   category               1296675 non-null  object \n",
      " 5   amt                    1296675 non-null  float64\n",
      " 6   first                  1296675 non-null  object \n",
      " 7   last                   1296675 non-null  object \n",
      " 8   gender                 1296675 non-null  object \n",
      " 9   street                 1296675 non-null  object \n",
      " 10  city                   1296675 non-null  object \n",
      " 11  state                  1296675 non-null  object \n",
      " 12  zip                    1296675 non-null  int64  \n",
      " 13  lat                    1296675 non-null  float64\n",
      " 14  long                   1296675 non-null  float64\n",
      " 15  city_pop               1296675 non-null  int64  \n",
      " 16  job                    1296675 non-null  object \n",
      " 17  dob                    1296675 non-null  object \n",
      " 18  trans_num              1296675 non-null  object \n",
      " 19  unix_time              1296675 non-null  int64  \n",
      " 20  merch_lat              1296675 non-null  float64\n",
      " 21  merch_long             1296675 non-null  float64\n",
      " 22  is_fraud               1296675 non-null  int64  \n",
      "dtypes: float64(5), int64(6), object(12)\n",
      "memory usage: 227.5+ MB\n"
     ]
    }
   ],
   "source": [
    "train_df.info()"
   ]
  },
  {
   "cell_type": "code",
   "execution_count": 7,
   "metadata": {
    "execution": {
     "iopub.execute_input": "2022-12-04T17:18:20.501853Z",
     "iopub.status.busy": "2022-12-04T17:18:20.501374Z",
     "iopub.status.idle": "2022-12-04T17:18:20.739106Z",
     "shell.execute_reply": "2022-12-04T17:18:20.738260Z",
     "shell.execute_reply.started": "2022-12-04T17:18:20.501810Z"
    }
   },
   "outputs": [
    {
     "name": "stdout",
     "output_type": "stream",
     "text": [
      "<class 'pandas.core.frame.DataFrame'>\n",
      "RangeIndex: 555719 entries, 0 to 555718\n",
      "Data columns (total 23 columns):\n",
      " #   Column                 Non-Null Count   Dtype  \n",
      "---  ------                 --------------   -----  \n",
      " 0   Unnamed: 0             555719 non-null  int64  \n",
      " 1   trans_date_trans_time  555719 non-null  object \n",
      " 2   cc_num                 555719 non-null  int64  \n",
      " 3   merchant               555719 non-null  object \n",
      " 4   category               555719 non-null  object \n",
      " 5   amt                    555719 non-null  float64\n",
      " 6   first                  555719 non-null  object \n",
      " 7   last                   555719 non-null  object \n",
      " 8   gender                 555719 non-null  object \n",
      " 9   street                 555719 non-null  object \n",
      " 10  city                   555719 non-null  object \n",
      " 11  state                  555719 non-null  object \n",
      " 12  zip                    555719 non-null  int64  \n",
      " 13  lat                    555719 non-null  float64\n",
      " 14  long                   555719 non-null  float64\n",
      " 15  city_pop               555719 non-null  int64  \n",
      " 16  job                    555719 non-null  object \n",
      " 17  dob                    555719 non-null  object \n",
      " 18  trans_num              555719 non-null  object \n",
      " 19  unix_time              555719 non-null  int64  \n",
      " 20  merch_lat              555719 non-null  float64\n",
      " 21  merch_long             555719 non-null  float64\n",
      " 22  is_fraud               555719 non-null  int64  \n",
      "dtypes: float64(5), int64(6), object(12)\n",
      "memory usage: 97.5+ MB\n"
     ]
    }
   ],
   "source": [
    "test_df.info()"
   ]
  },
  {
   "cell_type": "markdown",
   "metadata": {},
   "source": [
    "# Data analysis and Visualization"
   ]
  },
  {
   "cell_type": "code",
   "execution_count": 8,
   "metadata": {
    "execution": {
     "iopub.execute_input": "2022-12-04T17:18:20.740565Z",
     "iopub.status.busy": "2022-12-04T17:18:20.740299Z",
     "iopub.status.idle": "2022-12-04T17:18:21.909148Z",
     "shell.execute_reply": "2022-12-04T17:18:21.908438Z",
     "shell.execute_reply.started": "2022-12-04T17:18:20.740524Z"
    }
   },
   "outputs": [
    {
     "name": "stderr",
     "output_type": "stream",
     "text": [
      "C:\\Users\\anilk\\AppData\\Local\\Temp\\ipykernel_20040\\937493631.py:2: FutureWarning: The default value of numeric_only in DataFrame.corr is deprecated. In a future version, it will default to False. Select only valid columns or specify the value of numeric_only to silence this warning.\n",
      "  sns.heatmap(train_df.corr(),cmap=\"YlGnBu\", annot=True)\n"
     ]
    },
    {
     "data": {
      "image/png": "[encoded data removed]",
      "text/plain": [
       "<Figure size 1000x800 with 2 Axes>"
      ]
     },
     "metadata": {},
     "output_type": "display_data"
    }
   ],
   "source": [
    "fig, ax = plt.subplots(figsize=(10,8))\n",
    "sns.heatmap(train_df.corr(),cmap=\"YlGnBu\", annot=True)\n",
    "plt.show()"
   ]
  },
  {
   "cell_type": "markdown",
   "metadata": {},
   "source": [
    "Note: From heatmap amount has highly correlated with is_fraud\n",
    "\n",
    "(Heatmap if value close to 1 and color close to white meaning 2 features have highly correlated)"
   ]
  },
  {
   "cell_type": "markdown",
   "metadata": {},
   "source": [
    "## Most amount scamed and there gender information"
   ]
  },
  {
   "cell_type": "code",
   "execution_count": 9,
   "metadata": {
    "execution": {
     "iopub.execute_input": "2022-12-04T17:18:21.911042Z",
     "iopub.status.busy": "2022-12-04T17:18:21.910375Z",
     "iopub.status.idle": "2022-12-04T17:18:21.952718Z",
     "shell.execute_reply": "2022-12-04T17:18:21.951925Z",
     "shell.execute_reply.started": "2022-12-04T17:18:21.911003Z"
    }
   },
   "outputs": [
    {
     "data": {
      "text/html": [
       "<div>\n",
       "<style scoped>\n",
       "    .dataframe tbody tr th:only-of-type {\n",
       "        vertical-align: middle;\n",
       "    }\n",
       "\n",
       "    .dataframe tbody tr th {\n",
       "        vertical-align: top;\n",
       "    }\n",
       "\n",
       "    .dataframe thead th {\n",
       "        text-align: right;\n",
       "    }\n",
       "</style>\n",
       "<table border=\"1\" class=\"dataframe\">\n",
       "  <thead>\n",
       "    <tr style=\"text-align: right;\">\n",
       "      <th></th>\n",
       "      <th>Unnamed: 0</th>\n",
       "      <th>trans_date_trans_time</th>\n",
       "      <th>cc_num</th>\n",
       "      <th>merchant</th>\n",
       "      <th>category</th>\n",
       "      <th>amt</th>\n",
       "      <th>first</th>\n",
       "      <th>last</th>\n",
       "      <th>gender</th>\n",
       "      <th>street</th>\n",
       "      <th>...</th>\n",
       "      <th>lat</th>\n",
       "      <th>long</th>\n",
       "      <th>city_pop</th>\n",
       "      <th>job</th>\n",
       "      <th>dob</th>\n",
       "      <th>trans_num</th>\n",
       "      <th>unix_time</th>\n",
       "      <th>merch_lat</th>\n",
       "      <th>merch_long</th>\n",
       "      <th>is_fraud</th>\n",
       "    </tr>\n",
       "  </thead>\n",
       "  <tbody>\n",
       "    <tr>\n",
       "      <th>1262544</th>\n",
       "      <td>1262544</td>\n",
       "      <td>2020-06-08 22:14:13</td>\n",
       "      <td>3562793934111141</td>\n",
       "      <td>fraud_Kuhn LLC</td>\n",
       "      <td>shopping_pos</td>\n",
       "      <td>1376.04</td>\n",
       "      <td>Meagan</td>\n",
       "      <td>Edwards</td>\n",
       "      <td>F</td>\n",
       "      <td>10376 Bullock Rapid</td>\n",
       "      <td>...</td>\n",
       "      <td>38.9456</td>\n",
       "      <td>-75.9777</td>\n",
       "      <td>777</td>\n",
       "      <td>Television production assistant</td>\n",
       "      <td>1997-04-17</td>\n",
       "      <td>9a7f96694d672499c10b6085fadecd30</td>\n",
       "      <td>1370729653</td>\n",
       "      <td>38.004592</td>\n",
       "      <td>-75.446751</td>\n",
       "      <td>1</td>\n",
       "    </tr>\n",
       "    <tr>\n",
       "      <th>514148</th>\n",
       "      <td>514148</td>\n",
       "      <td>2019-08-10 22:10:23</td>\n",
       "      <td>3500969075198072</td>\n",
       "      <td>fraud_Metz-Boehm</td>\n",
       "      <td>shopping_pos</td>\n",
       "      <td>1371.81</td>\n",
       "      <td>Kenneth</td>\n",
       "      <td>Sanchez</td>\n",
       "      <td>M</td>\n",
       "      <td>0110 Ashley Forest</td>\n",
       "      <td>...</td>\n",
       "      <td>47.2271</td>\n",
       "      <td>-117.0819</td>\n",
       "      <td>895</td>\n",
       "      <td>Clothing/textile technologist</td>\n",
       "      <td>1999-05-31</td>\n",
       "      <td>20cf5453224328229e06ae7b4df10302</td>\n",
       "      <td>1344636623</td>\n",
       "      <td>47.065996</td>\n",
       "      <td>-116.262297</td>\n",
       "      <td>1</td>\n",
       "    </tr>\n",
       "  </tbody>\n",
       "</table>\n",
       "<p>2 rows × 23 columns</p>\n",
       "</div>"
      ],
      "text/plain": [
       "         Unnamed: 0 trans_date_trans_time            cc_num          merchant  \\\n",
       "1262544     1262544   2020-06-08 22:14:13  3562793934111141    fraud_Kuhn LLC   \n",
       "514148       514148   2019-08-10 22:10:23  3500969075198072  fraud_Metz-Boehm   \n",
       "\n",
       "             category      amt    first     last gender               street  \\\n",
       "1262544  shopping_pos  1376.04   Meagan  Edwards      F  10376 Bullock Rapid   \n",
       "514148   shopping_pos  1371.81  Kenneth  Sanchez      M   0110 Ashley Forest   \n",
       "\n",
       "         ...      lat      long  city_pop                              job  \\\n",
       "1262544  ...  38.9456  -75.9777       777  Television production assistant   \n",
       "514148   ...  47.2271 -117.0819       895    Clothing/textile technologist   \n",
       "\n",
       "                dob                         trans_num   unix_time  merch_lat  \\\n",
       "1262544  1997-04-17  9a7f96694d672499c10b6085fadecd30  1370729653  38.004592   \n",
       "514148   1999-05-31  20cf5453224328229e06ae7b4df10302  1344636623  47.065996   \n",
       "\n",
       "         merch_long  is_fraud  \n",
       "1262544  -75.446751         1  \n",
       "514148  -116.262297         1  \n",
       "\n",
       "[2 rows x 23 columns]"
      ]
     },
     "execution_count": 9,
     "metadata": {},
     "output_type": "execute_result"
    }
   ],
   "source": [
    "train_df.loc[train_df['is_fraud'] == 1].sort_values('amt', ascending=False).head(2)"
   ]
  },
  {
   "cell_type": "code",
   "execution_count": 10,
   "metadata": {
    "execution": {
     "iopub.execute_input": "2022-12-04T17:18:21.954433Z",
     "iopub.status.busy": "2022-12-04T17:18:21.953984Z",
     "iopub.status.idle": "2022-12-04T17:18:32.440094Z",
     "shell.execute_reply": "2022-12-04T17:18:32.439415Z",
     "shell.execute_reply.started": "2022-12-04T17:18:21.954397Z"
    }
   },
   "outputs": [
    {
     "data": {
      "text/plain": [
       "<AxesSubplot: title={'center': 'Number of frauds by category'}, xlabel='gender', ylabel='is_fraud'>"
      ]
     },
     "execution_count": 10,
     "metadata": {},
     "output_type": "execute_result"
    },
    {
     "data": {
      "image/png": "[encoded data removed]",
      "text/plain": [
       "<Figure size 900x700 with 1 Axes>"
      ]
     },
     "metadata": {},
     "output_type": "display_data"
    }
   ],
   "source": [
    "# Age\n",
    "plt.figure(figsize=(9,7))\n",
    "plt.title('Number of frauds by category')\n",
    "sns.barplot(x=\"gender\", y='is_fraud' ,data=train_df)"
   ]
  },
  {
   "cell_type": "code",
   "execution_count": 11,
   "metadata": {
    "execution": {
     "iopub.execute_input": "2022-12-04T17:18:32.443463Z",
     "iopub.status.busy": "2022-12-04T17:18:32.443255Z",
     "iopub.status.idle": "2022-12-04T17:18:42.984821Z",
     "shell.execute_reply": "2022-12-04T17:18:42.983947Z",
     "shell.execute_reply.started": "2022-12-04T17:18:32.443438Z"
    }
   },
   "outputs": [
    {
     "data": {
      "text/plain": [
       "<AxesSubplot: title={'center': 'Number of frauds by category'}, xlabel='category', ylabel='is_fraud'>"
      ]
     },
     "execution_count": 11,
     "metadata": {},
     "output_type": "execute_result"
    },
    {
     "data": {
      "image/png": "[encoded data removed]",
      "text/plain": [
       "<Figure size 1600x800 with 1 Axes>"
      ]
     },
     "metadata": {},
     "output_type": "display_data"
    }
   ],
   "source": [
    "# Category\n",
    "plt.figure(figsize=(16,8))\n",
    "plt.title('Number of frauds by category')\n",
    "sns.barplot(x=\"category\", y='is_fraud' ,data=train_df)"
   ]
  },
  {
   "cell_type": "markdown",
   "metadata": {},
   "source": [
    "# Pre-Processing\n",
    "## Downsampling Data\n",
    "Use downsampling solution because targets are imbalance data"
   ]
  },
  {
   "cell_type": "code",
   "execution_count": 12,
   "metadata": {
    "execution": {
     "iopub.execute_input": "2022-12-04T17:18:42.991651Z",
     "iopub.status.busy": "2022-12-04T17:18:42.989290Z",
     "iopub.status.idle": "2022-12-04T17:18:43.006767Z",
     "shell.execute_reply": "2022-12-04T17:18:43.006000Z",
     "shell.execute_reply.started": "2022-12-04T17:18:42.991604Z"
    }
   },
   "outputs": [
    {
     "name": "stdout",
     "output_type": "stream",
     "text": [
      "Number of is_fraud data\n",
      "0    1289169\n",
      "1       7506\n",
      "Name: is_fraud, dtype: int64\n"
     ]
    }
   ],
   "source": [
    "print(\"Number of is_fraud data\")\n",
    "print(train_df['is_fraud'].value_counts())"
   ]
  },
  {
   "cell_type": "markdown",
   "metadata": {},
   "source": [
    "is_fraud = 0 has 1289169 data\n",
    "\n",
    "is_fraud = 1 has 7506 data\n",
    "\n",
    "Amount of is_fraud is very different, it can make overfitting"
   ]
  },
  {
   "cell_type": "code",
   "execution_count": 13,
   "metadata": {
    "execution": {
     "iopub.execute_input": "2022-12-04T17:18:43.008912Z",
     "iopub.status.busy": "2022-12-04T17:18:43.008222Z",
     "iopub.status.idle": "2022-12-04T17:18:43.392912Z",
     "shell.execute_reply": "2022-12-04T17:18:43.392150Z",
     "shell.execute_reply.started": "2022-12-04T17:18:43.008877Z"
    }
   },
   "outputs": [
    {
     "name": "stdout",
     "output_type": "stream",
     "text": [
      "<class 'pandas.core.frame.DataFrame'>\n",
      "Int64Index: 15012 entries, 123118 to 1295733\n",
      "Data columns (total 23 columns):\n",
      " #   Column                 Non-Null Count  Dtype  \n",
      "---  ------                 --------------  -----  \n",
      " 0   Unnamed: 0             15012 non-null  int64  \n",
      " 1   trans_date_trans_time  15012 non-null  object \n",
      " 2   cc_num                 15012 non-null  int64  \n",
      " 3   merchant               15012 non-null  object \n",
      " 4   category               15012 non-null  object \n",
      " 5   amt                    15012 non-null  float64\n",
      " 6   first                  15012 non-null  object \n",
      " 7   last                   15012 non-null  object \n",
      " 8   gender                 15012 non-null  object \n",
      " 9   street                 15012 non-null  object \n",
      " 10  city                   15012 non-null  object \n",
      " 11  state                  15012 non-null  object \n",
      " 12  zip                    15012 non-null  int64  \n",
      " 13  lat                    15012 non-null  float64\n",
      " 14  long                   15012 non-null  float64\n",
      " 15  city_pop               15012 non-null  int64  \n",
      " 16  job                    15012 non-null  object \n",
      " 17  dob                    15012 non-null  object \n",
      " 18  trans_num              15012 non-null  object \n",
      " 19  unix_time              15012 non-null  int64  \n",
      " 20  merch_lat              15012 non-null  float64\n",
      " 21  merch_long             15012 non-null  float64\n",
      " 22  is_fraud               15012 non-null  int64  \n",
      "dtypes: float64(5), int64(6), object(12)\n",
      "memory usage: 2.7+ MB\n"
     ]
    }
   ],
   "source": [
    "from sklearn.utils import resample \n",
    "# .iloc[:,22] = is_fraud\n",
    "df_minority = train_df[train_df.iloc[:,22].values==0]\n",
    "df_majority = train_df[train_df.iloc[:,22].values==1] \n",
    " \n",
    "# Downsample majority class\n",
    "df_minority_downsampled = resample(df_minority,\n",
    "                                 n_samples=7506,\n",
    "                                 random_state=42)\n",
    " \n",
    "# Combine minority class with downsampled majority class\n",
    "train_df_final = pd.concat([df_minority_downsampled, df_majority])\n",
    " \n",
    "# final train data\n",
    "train_df_final.info()"
   ]
  },
  {
   "cell_type": "code",
   "execution_count": 14,
   "metadata": {
    "execution": {
     "iopub.execute_input": "2022-12-04T17:18:43.395741Z",
     "iopub.status.busy": "2022-12-04T17:18:43.394102Z",
     "iopub.status.idle": "2022-12-04T17:18:43.401908Z",
     "shell.execute_reply": "2022-12-04T17:18:43.400941Z",
     "shell.execute_reply.started": "2022-12-04T17:18:43.395676Z"
    }
   },
   "outputs": [
    {
     "name": "stdout",
     "output_type": "stream",
     "text": [
      "Number of is_fraud data 0    7506\n",
      "1    7506\n",
      "Name: is_fraud, dtype: int64\n"
     ]
    }
   ],
   "source": [
    "print(\"Number of is_fraud data\",train_df_final['is_fraud'].value_counts())"
   ]
  },
  {
   "cell_type": "markdown",
   "metadata": {},
   "source": [
    "Note: Now is_fraud = 0 and is_fruad = 1 have amount = 7506 both"
   ]
  },
  {
   "cell_type": "markdown",
   "metadata": {},
   "source": [
    "# Data Tranformation\n",
    "\n",
    "### Train Data"
   ]
  },
  {
   "cell_type": "code",
   "execution_count": 15,
   "metadata": {
    "execution": {
     "iopub.execute_input": "2022-12-04T17:18:43.403723Z",
     "iopub.status.busy": "2022-12-04T17:18:43.403196Z",
     "iopub.status.idle": "2022-12-04T17:18:43.440983Z",
     "shell.execute_reply": "2022-12-04T17:18:43.440175Z",
     "shell.execute_reply.started": "2022-12-04T17:18:43.403671Z"
    }
   },
   "outputs": [
    {
     "data": {
      "text/html": [
       "<div>\n",
       "<style scoped>\n",
       "    .dataframe tbody tr th:only-of-type {\n",
       "        vertical-align: middle;\n",
       "    }\n",
       "\n",
       "    .dataframe tbody tr th {\n",
       "        vertical-align: top;\n",
       "    }\n",
       "\n",
       "    .dataframe thead th {\n",
       "        text-align: right;\n",
       "    }\n",
       "</style>\n",
       "<table border=\"1\" class=\"dataframe\">\n",
       "  <thead>\n",
       "    <tr style=\"text-align: right;\">\n",
       "      <th></th>\n",
       "      <th>Unnamed: 0</th>\n",
       "      <th>trans_date_trans_time</th>\n",
       "      <th>cc_num</th>\n",
       "      <th>merchant</th>\n",
       "      <th>category</th>\n",
       "      <th>amt</th>\n",
       "      <th>first</th>\n",
       "      <th>last</th>\n",
       "      <th>gender</th>\n",
       "      <th>street</th>\n",
       "      <th>...</th>\n",
       "      <th>job</th>\n",
       "      <th>dob</th>\n",
       "      <th>trans_num</th>\n",
       "      <th>unix_time</th>\n",
       "      <th>merch_lat</th>\n",
       "      <th>merch_long</th>\n",
       "      <th>is_fraud</th>\n",
       "      <th>week_number</th>\n",
       "      <th>month_number</th>\n",
       "      <th>year</th>\n",
       "    </tr>\n",
       "  </thead>\n",
       "  <tbody>\n",
       "    <tr>\n",
       "      <th>123118</th>\n",
       "      <td>123118</td>\n",
       "      <td>2019-03-10 03:24:30</td>\n",
       "      <td>30011465039817</td>\n",
       "      <td>fraud_Huels-Nolan</td>\n",
       "      <td>gas_transport</td>\n",
       "      <td>67.66</td>\n",
       "      <td>Lisa</td>\n",
       "      <td>Garcia</td>\n",
       "      <td>F</td>\n",
       "      <td>213 Gill Expressway</td>\n",
       "      <td>...</td>\n",
       "      <td>Human resources officer</td>\n",
       "      <td>1971-10-14</td>\n",
       "      <td>6744f95a0c456529c4a35cb30a5cb396</td>\n",
       "      <td>1331349870</td>\n",
       "      <td>42.974691</td>\n",
       "      <td>-73.944930</td>\n",
       "      <td>0</td>\n",
       "      <td>6</td>\n",
       "      <td>3</td>\n",
       "      <td>2019</td>\n",
       "    </tr>\n",
       "    <tr>\n",
       "      <th>675160</th>\n",
       "      <td>675160</td>\n",
       "      <td>2019-10-14 15:40:47</td>\n",
       "      <td>2288813824604479</td>\n",
       "      <td>fraud_Yost-Rogahn</td>\n",
       "      <td>personal_care</td>\n",
       "      <td>47.79</td>\n",
       "      <td>Barbara</td>\n",
       "      <td>Norman</td>\n",
       "      <td>F</td>\n",
       "      <td>6278 Stephanie Unions</td>\n",
       "      <td>...</td>\n",
       "      <td>Herbalist</td>\n",
       "      <td>1981-08-29</td>\n",
       "      <td>7c53e2c5bb6aa689753574d9f8ae623f</td>\n",
       "      <td>1350229247</td>\n",
       "      <td>41.046486</td>\n",
       "      <td>-74.132901</td>\n",
       "      <td>0</td>\n",
       "      <td>0</td>\n",
       "      <td>10</td>\n",
       "      <td>2019</td>\n",
       "    </tr>\n",
       "    <tr>\n",
       "      <th>133167</th>\n",
       "      <td>133167</td>\n",
       "      <td>2019-03-14 15:21:51</td>\n",
       "      <td>2266735643685262</td>\n",
       "      <td>fraud_Roob-Okuneva</td>\n",
       "      <td>health_fitness</td>\n",
       "      <td>24.17</td>\n",
       "      <td>Carlos</td>\n",
       "      <td>Chung</td>\n",
       "      <td>M</td>\n",
       "      <td>8957 Russell Key</td>\n",
       "      <td>...</td>\n",
       "      <td>Curator</td>\n",
       "      <td>1972-07-25</td>\n",
       "      <td>0b3a94c9a2f622d2f3c3399a6cc3910b</td>\n",
       "      <td>1331738511</td>\n",
       "      <td>34.956184</td>\n",
       "      <td>-86.986784</td>\n",
       "      <td>0</td>\n",
       "      <td>3</td>\n",
       "      <td>3</td>\n",
       "      <td>2019</td>\n",
       "    </tr>\n",
       "    <tr>\n",
       "      <th>261154</th>\n",
       "      <td>261154</td>\n",
       "      <td>2019-05-10 09:04:20</td>\n",
       "      <td>4384910379661778</td>\n",
       "      <td>fraud_Howe Ltd</td>\n",
       "      <td>misc_pos</td>\n",
       "      <td>51.69</td>\n",
       "      <td>Michelle</td>\n",
       "      <td>Russell</td>\n",
       "      <td>F</td>\n",
       "      <td>55505 Christy Via</td>\n",
       "      <td>...</td>\n",
       "      <td>Naval architect</td>\n",
       "      <td>1949-04-24</td>\n",
       "      <td>35caf2d1468a377e45235274b005aa02</td>\n",
       "      <td>1336640660</td>\n",
       "      <td>46.851874</td>\n",
       "      <td>-97.269843</td>\n",
       "      <td>0</td>\n",
       "      <td>4</td>\n",
       "      <td>5</td>\n",
       "      <td>2019</td>\n",
       "    </tr>\n",
       "    <tr>\n",
       "      <th>111322</th>\n",
       "      <td>111322</td>\n",
       "      <td>2019-03-04 12:54:01</td>\n",
       "      <td>2356276337669917</td>\n",
       "      <td>fraud_Mayert Group</td>\n",
       "      <td>shopping_pos</td>\n",
       "      <td>5.89</td>\n",
       "      <td>Benjamin</td>\n",
       "      <td>Harris</td>\n",
       "      <td>M</td>\n",
       "      <td>0881 Lori Pines</td>\n",
       "      <td>...</td>\n",
       "      <td>Paediatric nurse</td>\n",
       "      <td>1981-02-15</td>\n",
       "      <td>4ea34c698a6a4ad782a74a051f136aca</td>\n",
       "      <td>1330865641</td>\n",
       "      <td>38.303450</td>\n",
       "      <td>-75.346029</td>\n",
       "      <td>0</td>\n",
       "      <td>0</td>\n",
       "      <td>3</td>\n",
       "      <td>2019</td>\n",
       "    </tr>\n",
       "  </tbody>\n",
       "</table>\n",
       "<p>5 rows × 26 columns</p>\n",
       "</div>"
      ],
      "text/plain": [
       "        Unnamed: 0 trans_date_trans_time            cc_num  \\\n",
       "123118      123118   2019-03-10 03:24:30    30011465039817   \n",
       "675160      675160   2019-10-14 15:40:47  2288813824604479   \n",
       "133167      133167   2019-03-14 15:21:51  2266735643685262   \n",
       "261154      261154   2019-05-10 09:04:20  4384910379661778   \n",
       "111322      111322   2019-03-04 12:54:01  2356276337669917   \n",
       "\n",
       "                  merchant        category    amt     first     last gender  \\\n",
       "123118   fraud_Huels-Nolan   gas_transport  67.66      Lisa   Garcia      F   \n",
       "675160   fraud_Yost-Rogahn   personal_care  47.79   Barbara   Norman      F   \n",
       "133167  fraud_Roob-Okuneva  health_fitness  24.17    Carlos    Chung      M   \n",
       "261154      fraud_Howe Ltd        misc_pos  51.69  Michelle  Russell      F   \n",
       "111322  fraud_Mayert Group    shopping_pos   5.89  Benjamin   Harris      M   \n",
       "\n",
       "                       street  ...                      job         dob  \\\n",
       "123118    213 Gill Expressway  ...  Human resources officer  1971-10-14   \n",
       "675160  6278 Stephanie Unions  ...                Herbalist  1981-08-29   \n",
       "133167       8957 Russell Key  ...                  Curator  1972-07-25   \n",
       "261154      55505 Christy Via  ...          Naval architect  1949-04-24   \n",
       "111322        0881 Lori Pines  ...         Paediatric nurse  1981-02-15   \n",
       "\n",
       "                               trans_num   unix_time  merch_lat  merch_long  \\\n",
       "123118  6744f95a0c456529c4a35cb30a5cb396  1331349870  42.974691  -73.944930   \n",
       "675160  7c53e2c5bb6aa689753574d9f8ae623f  1350229247  41.046486  -74.132901   \n",
       "133167  0b3a94c9a2f622d2f3c3399a6cc3910b  1331738511  34.956184  -86.986784   \n",
       "261154  35caf2d1468a377e45235274b005aa02  1336640660  46.851874  -97.269843   \n",
       "111322  4ea34c698a6a4ad782a74a051f136aca  1330865641  38.303450  -75.346029   \n",
       "\n",
       "       is_fraud week_number month_number  year  \n",
       "123118        0           6            3  2019  \n",
       "675160        0           0           10  2019  \n",
       "133167        0           3            3  2019  \n",
       "261154        0           4            5  2019  \n",
       "111322        0           0            3  2019  \n",
       "\n",
       "[5 rows x 26 columns]"
      ]
     },
     "execution_count": 15,
     "metadata": {},
     "output_type": "execute_result"
    }
   ],
   "source": [
    "\n",
    "train_df_final['trans_date_trans_time'] = pd.to_datetime(train_df_final['trans_date_trans_time'])\n",
    "train_df_final['week_number'] = train_df_final['trans_date_trans_time'].dt.dayofweek\n",
    "assert train_df_final['week_number'].max() == 6\n",
    "train_df_final['month_number'] = train_df_final['trans_date_trans_time'].dt.month\n",
    "assert train_df_final['month_number'].max() == 12\n",
    "train_df_final['year'] = train_df_final['trans_date_trans_time'].dt.year\n",
    "train_df_final.head()"
   ]
  },
  {
   "cell_type": "markdown",
   "metadata": {},
   "source": [
    "### Test Data"
   ]
  },
  {
   "cell_type": "code",
   "execution_count": 16,
   "metadata": {
    "execution": {
     "iopub.execute_input": "2022-12-04T17:18:43.442564Z",
     "iopub.status.busy": "2022-12-04T17:18:43.442239Z",
     "iopub.status.idle": "2022-12-04T17:18:43.724411Z",
     "shell.execute_reply": "2022-12-04T17:18:43.723620Z",
     "shell.execute_reply.started": "2022-12-04T17:18:43.442530Z"
    }
   },
   "outputs": [
    {
     "data": {
      "text/html": [
       "<div>\n",
       "<style scoped>\n",
       "    .dataframe tbody tr th:only-of-type {\n",
       "        vertical-align: middle;\n",
       "    }\n",
       "\n",
       "    .dataframe tbody tr th {\n",
       "        vertical-align: top;\n",
       "    }\n",
       "\n",
       "    .dataframe thead th {\n",
       "        text-align: right;\n",
       "    }\n",
       "</style>\n",
       "<table border=\"1\" class=\"dataframe\">\n",
       "  <thead>\n",
       "    <tr style=\"text-align: right;\">\n",
       "      <th></th>\n",
       "      <th>Unnamed: 0</th>\n",
       "      <th>trans_date_trans_time</th>\n",
       "      <th>cc_num</th>\n",
       "      <th>merchant</th>\n",
       "      <th>category</th>\n",
       "      <th>amt</th>\n",
       "      <th>first</th>\n",
       "      <th>last</th>\n",
       "      <th>gender</th>\n",
       "      <th>street</th>\n",
       "      <th>...</th>\n",
       "      <th>job</th>\n",
       "      <th>dob</th>\n",
       "      <th>trans_num</th>\n",
       "      <th>unix_time</th>\n",
       "      <th>merch_lat</th>\n",
       "      <th>merch_long</th>\n",
       "      <th>is_fraud</th>\n",
       "      <th>week_number</th>\n",
       "      <th>month_number</th>\n",
       "      <th>year</th>\n",
       "    </tr>\n",
       "  </thead>\n",
       "  <tbody>\n",
       "    <tr>\n",
       "      <th>0</th>\n",
       "      <td>0</td>\n",
       "      <td>2020-06-21 12:14:25</td>\n",
       "      <td>2291163933867244</td>\n",
       "      <td>fraud_Kirlin and Sons</td>\n",
       "      <td>personal_care</td>\n",
       "      <td>2.86</td>\n",
       "      <td>Jeff</td>\n",
       "      <td>Elliott</td>\n",
       "      <td>M</td>\n",
       "      <td>351 Darlene Green</td>\n",
       "      <td>...</td>\n",
       "      <td>Mechanical engineer</td>\n",
       "      <td>1968-03-19</td>\n",
       "      <td>2da90c7d74bd46a0caf3777415b3ebd3</td>\n",
       "      <td>1371816865</td>\n",
       "      <td>33.986391</td>\n",
       "      <td>-81.200714</td>\n",
       "      <td>0</td>\n",
       "      <td>6</td>\n",
       "      <td>6</td>\n",
       "      <td>2020</td>\n",
       "    </tr>\n",
       "    <tr>\n",
       "      <th>1</th>\n",
       "      <td>1</td>\n",
       "      <td>2020-06-21 12:14:33</td>\n",
       "      <td>3573030041201292</td>\n",
       "      <td>fraud_Sporer-Keebler</td>\n",
       "      <td>personal_care</td>\n",
       "      <td>29.84</td>\n",
       "      <td>Joanne</td>\n",
       "      <td>Williams</td>\n",
       "      <td>F</td>\n",
       "      <td>3638 Marsh Union</td>\n",
       "      <td>...</td>\n",
       "      <td>Sales professional, IT</td>\n",
       "      <td>1990-01-17</td>\n",
       "      <td>324cc204407e99f51b0d6ca0055005e7</td>\n",
       "      <td>1371816873</td>\n",
       "      <td>39.450498</td>\n",
       "      <td>-109.960431</td>\n",
       "      <td>0</td>\n",
       "      <td>6</td>\n",
       "      <td>6</td>\n",
       "      <td>2020</td>\n",
       "    </tr>\n",
       "    <tr>\n",
       "      <th>2</th>\n",
       "      <td>2</td>\n",
       "      <td>2020-06-21 12:14:53</td>\n",
       "      <td>3598215285024754</td>\n",
       "      <td>fraud_Swaniawski, Nitzsche and Welch</td>\n",
       "      <td>health_fitness</td>\n",
       "      <td>41.28</td>\n",
       "      <td>Ashley</td>\n",
       "      <td>Lopez</td>\n",
       "      <td>F</td>\n",
       "      <td>9333 Valentine Point</td>\n",
       "      <td>...</td>\n",
       "      <td>Librarian, public</td>\n",
       "      <td>1970-10-21</td>\n",
       "      <td>c81755dbbbea9d5c77f094348a7579be</td>\n",
       "      <td>1371816893</td>\n",
       "      <td>40.495810</td>\n",
       "      <td>-74.196111</td>\n",
       "      <td>0</td>\n",
       "      <td>6</td>\n",
       "      <td>6</td>\n",
       "      <td>2020</td>\n",
       "    </tr>\n",
       "    <tr>\n",
       "      <th>3</th>\n",
       "      <td>3</td>\n",
       "      <td>2020-06-21 12:15:15</td>\n",
       "      <td>3591919803438423</td>\n",
       "      <td>fraud_Haley Group</td>\n",
       "      <td>misc_pos</td>\n",
       "      <td>60.05</td>\n",
       "      <td>Brian</td>\n",
       "      <td>Williams</td>\n",
       "      <td>M</td>\n",
       "      <td>32941 Krystal Mill Apt. 552</td>\n",
       "      <td>...</td>\n",
       "      <td>Set designer</td>\n",
       "      <td>1987-07-25</td>\n",
       "      <td>2159175b9efe66dc301f149d3d5abf8c</td>\n",
       "      <td>1371816915</td>\n",
       "      <td>28.812398</td>\n",
       "      <td>-80.883061</td>\n",
       "      <td>0</td>\n",
       "      <td>6</td>\n",
       "      <td>6</td>\n",
       "      <td>2020</td>\n",
       "    </tr>\n",
       "    <tr>\n",
       "      <th>4</th>\n",
       "      <td>4</td>\n",
       "      <td>2020-06-21 12:15:17</td>\n",
       "      <td>3526826139003047</td>\n",
       "      <td>fraud_Johnston-Casper</td>\n",
       "      <td>travel</td>\n",
       "      <td>3.19</td>\n",
       "      <td>Nathan</td>\n",
       "      <td>Massey</td>\n",
       "      <td>M</td>\n",
       "      <td>5783 Evan Roads Apt. 465</td>\n",
       "      <td>...</td>\n",
       "      <td>Furniture designer</td>\n",
       "      <td>1955-07-06</td>\n",
       "      <td>57ff021bd3f328f8738bb535c302a31b</td>\n",
       "      <td>1371816917</td>\n",
       "      <td>44.959148</td>\n",
       "      <td>-85.884734</td>\n",
       "      <td>0</td>\n",
       "      <td>6</td>\n",
       "      <td>6</td>\n",
       "      <td>2020</td>\n",
       "    </tr>\n",
       "  </tbody>\n",
       "</table>\n",
       "<p>5 rows × 26 columns</p>\n",
       "</div>"
      ],
      "text/plain": [
       "   Unnamed: 0 trans_date_trans_time            cc_num  \\\n",
       "0           0   2020-06-21 12:14:25  2291163933867244   \n",
       "1           1   2020-06-21 12:14:33  3573030041201292   \n",
       "2           2   2020-06-21 12:14:53  3598215285024754   \n",
       "3           3   2020-06-21 12:15:15  3591919803438423   \n",
       "4           4   2020-06-21 12:15:17  3526826139003047   \n",
       "\n",
       "                               merchant        category    amt   first  \\\n",
       "0                 fraud_Kirlin and Sons   personal_care   2.86    Jeff   \n",
       "1                  fraud_Sporer-Keebler   personal_care  29.84  Joanne   \n",
       "2  fraud_Swaniawski, Nitzsche and Welch  health_fitness  41.28  Ashley   \n",
       "3                     fraud_Haley Group        misc_pos  60.05   Brian   \n",
       "4                 fraud_Johnston-Casper          travel   3.19  Nathan   \n",
       "\n",
       "       last gender                       street  ...                     job  \\\n",
       "0   Elliott      M            351 Darlene Green  ...     Mechanical engineer   \n",
       "1  Williams      F             3638 Marsh Union  ...  Sales professional, IT   \n",
       "2     Lopez      F         9333 Valentine Point  ...       Librarian, public   \n",
       "3  Williams      M  32941 Krystal Mill Apt. 552  ...            Set designer   \n",
       "4    Massey      M     5783 Evan Roads Apt. 465  ...      Furniture designer   \n",
       "\n",
       "          dob                         trans_num   unix_time  merch_lat  \\\n",
       "0  1968-03-19  2da90c7d74bd46a0caf3777415b3ebd3  1371816865  33.986391   \n",
       "1  1990-01-17  324cc204407e99f51b0d6ca0055005e7  1371816873  39.450498   \n",
       "2  1970-10-21  c81755dbbbea9d5c77f094348a7579be  1371816893  40.495810   \n",
       "3  1987-07-25  2159175b9efe66dc301f149d3d5abf8c  1371816915  28.812398   \n",
       "4  1955-07-06  57ff021bd3f328f8738bb535c302a31b  1371816917  44.959148   \n",
       "\n",
       "   merch_long is_fraud week_number month_number  year  \n",
       "0  -81.200714        0           6            6  2020  \n",
       "1 -109.960431        0           6            6  2020  \n",
       "2  -74.196111        0           6            6  2020  \n",
       "3  -80.883061        0           6            6  2020  \n",
       "4  -85.884734        0           6            6  2020  \n",
       "\n",
       "[5 rows x 26 columns]"
      ]
     },
     "execution_count": 16,
     "metadata": {},
     "output_type": "execute_result"
    }
   ],
   "source": [
    "test_df['trans_date_trans_time'] = pd.to_datetime(test_df['trans_date_trans_time'])\n",
    "test_df['week_number'] = test_df['trans_date_trans_time'].dt.dayofweek\n",
    "assert test_df['week_number'].max() == 6\n",
    "test_df['month_number'] = test_df['trans_date_trans_time'].dt.month\n",
    "assert test_df['month_number'].max() == 12\n",
    "test_df['year'] = test_df['trans_date_trans_time'].dt.year\n",
    "test_df.head()"
   ]
  },
  {
   "cell_type": "code",
   "execution_count": 17,
   "metadata": {
    "execution": {
     "iopub.execute_input": "2022-12-04T17:18:43.726349Z",
     "iopub.status.busy": "2022-12-04T17:18:43.725912Z",
     "iopub.status.idle": "2022-12-04T17:18:43.730543Z",
     "shell.execute_reply": "2022-12-04T17:18:43.729751Z",
     "shell.execute_reply.started": "2022-12-04T17:18:43.726310Z"
    }
   },
   "outputs": [],
   "source": [
    "from sklearn.metrics import confusion_matrix\n",
    "from sklearn.metrics import classification_report, confusion_matrix"
   ]
  },
  {
   "cell_type": "markdown",
   "metadata": {},
   "source": [
    "## One-Hot Endcoding\n",
    "Category is Nominal Data that cannot work with model,So I will change category to numerical by One Hot Encoding\n",
    "\n",
    "### Train Data"
   ]
  },
  {
   "cell_type": "code",
   "execution_count": 18,
   "metadata": {
    "execution": {
     "iopub.execute_input": "2022-12-04T17:18:43.732423Z",
     "iopub.status.busy": "2022-12-04T17:18:43.731970Z",
     "iopub.status.idle": "2022-12-04T17:18:43.776494Z",
     "shell.execute_reply": "2022-12-04T17:18:43.775610Z",
     "shell.execute_reply.started": "2022-12-04T17:18:43.732385Z"
    }
   },
   "outputs": [
    {
     "data": {
      "text/html": [
       "<div>\n",
       "<style scoped>\n",
       "    .dataframe tbody tr th:only-of-type {\n",
       "        vertical-align: middle;\n",
       "    }\n",
       "\n",
       "    .dataframe tbody tr th {\n",
       "        vertical-align: top;\n",
       "    }\n",
       "\n",
       "    .dataframe thead th {\n",
       "        text-align: right;\n",
       "    }\n",
       "</style>\n",
       "<table border=\"1\" class=\"dataframe\">\n",
       "  <thead>\n",
       "    <tr style=\"text-align: right;\">\n",
       "      <th></th>\n",
       "      <th>Unnamed: 0</th>\n",
       "      <th>trans_date_trans_time</th>\n",
       "      <th>cc_num</th>\n",
       "      <th>merchant</th>\n",
       "      <th>category</th>\n",
       "      <th>amt</th>\n",
       "      <th>first</th>\n",
       "      <th>last</th>\n",
       "      <th>gender</th>\n",
       "      <th>street</th>\n",
       "      <th>...</th>\n",
       "      <th>category_grocery_pos</th>\n",
       "      <th>category_health_fitness</th>\n",
       "      <th>category_home</th>\n",
       "      <th>category_kids_pets</th>\n",
       "      <th>category_misc_net</th>\n",
       "      <th>category_misc_pos</th>\n",
       "      <th>category_personal_care</th>\n",
       "      <th>category_shopping_net</th>\n",
       "      <th>category_shopping_pos</th>\n",
       "      <th>category_travel</th>\n",
       "    </tr>\n",
       "  </thead>\n",
       "  <tbody>\n",
       "    <tr>\n",
       "      <th>126</th>\n",
       "      <td>126</td>\n",
       "      <td>2019-01-01 01:33:52</td>\n",
       "      <td>3567879740649740</td>\n",
       "      <td>fraud_Koss and Sons</td>\n",
       "      <td>gas_transport</td>\n",
       "      <td>58.79</td>\n",
       "      <td>Tanya</td>\n",
       "      <td>Williams</td>\n",
       "      <td>F</td>\n",
       "      <td>566 Megan Well</td>\n",
       "      <td>...</td>\n",
       "      <td>0</td>\n",
       "      <td>0</td>\n",
       "      <td>0</td>\n",
       "      <td>0</td>\n",
       "      <td>0</td>\n",
       "      <td>0</td>\n",
       "      <td>0</td>\n",
       "      <td>0</td>\n",
       "      <td>0</td>\n",
       "      <td>0</td>\n",
       "    </tr>\n",
       "    <tr>\n",
       "      <th>159</th>\n",
       "      <td>159</td>\n",
       "      <td>2019-01-01 01:56:51</td>\n",
       "      <td>30442439074871</td>\n",
       "      <td>fraud_Parisian, Schiller and Altenwerth</td>\n",
       "      <td>misc_net</td>\n",
       "      <td>14.03</td>\n",
       "      <td>Linda</td>\n",
       "      <td>Sanchez</td>\n",
       "      <td>F</td>\n",
       "      <td>6574 William Hill Apt. 375</td>\n",
       "      <td>...</td>\n",
       "      <td>0</td>\n",
       "      <td>0</td>\n",
       "      <td>0</td>\n",
       "      <td>0</td>\n",
       "      <td>1</td>\n",
       "      <td>0</td>\n",
       "      <td>0</td>\n",
       "      <td>0</td>\n",
       "      <td>0</td>\n",
       "      <td>0</td>\n",
       "    </tr>\n",
       "    <tr>\n",
       "      <th>215</th>\n",
       "      <td>215</td>\n",
       "      <td>2019-01-01 02:38:49</td>\n",
       "      <td>4710826438164847414</td>\n",
       "      <td>fraud_Strosin-Cruickshank</td>\n",
       "      <td>grocery_pos</td>\n",
       "      <td>128.24</td>\n",
       "      <td>Juan</td>\n",
       "      <td>Henry</td>\n",
       "      <td>M</td>\n",
       "      <td>9795 Lori Island Suite 346</td>\n",
       "      <td>...</td>\n",
       "      <td>1</td>\n",
       "      <td>0</td>\n",
       "      <td>0</td>\n",
       "      <td>0</td>\n",
       "      <td>0</td>\n",
       "      <td>0</td>\n",
       "      <td>0</td>\n",
       "      <td>0</td>\n",
       "      <td>0</td>\n",
       "      <td>0</td>\n",
       "    </tr>\n",
       "    <tr>\n",
       "      <th>404</th>\n",
       "      <td>404</td>\n",
       "      <td>2019-01-01 05:19:42</td>\n",
       "      <td>4464457352619</td>\n",
       "      <td>fraud_Vandervort-Funk</td>\n",
       "      <td>grocery_pos</td>\n",
       "      <td>124.33</td>\n",
       "      <td>Breanna</td>\n",
       "      <td>Rodriguez</td>\n",
       "      <td>F</td>\n",
       "      <td>118 Cabrera Springs Apt. 105</td>\n",
       "      <td>...</td>\n",
       "      <td>1</td>\n",
       "      <td>0</td>\n",
       "      <td>0</td>\n",
       "      <td>0</td>\n",
       "      <td>0</td>\n",
       "      <td>0</td>\n",
       "      <td>0</td>\n",
       "      <td>0</td>\n",
       "      <td>0</td>\n",
       "      <td>0</td>\n",
       "    </tr>\n",
       "    <tr>\n",
       "      <th>727</th>\n",
       "      <td>727</td>\n",
       "      <td>2019-01-01 09:27:35</td>\n",
       "      <td>3554849923339851</td>\n",
       "      <td>fraud_Larson-Moen</td>\n",
       "      <td>entertainment</td>\n",
       "      <td>65.74</td>\n",
       "      <td>John</td>\n",
       "      <td>Hudson</td>\n",
       "      <td>M</td>\n",
       "      <td>886 Nicole Key</td>\n",
       "      <td>...</td>\n",
       "      <td>0</td>\n",
       "      <td>0</td>\n",
       "      <td>0</td>\n",
       "      <td>0</td>\n",
       "      <td>0</td>\n",
       "      <td>0</td>\n",
       "      <td>0</td>\n",
       "      <td>0</td>\n",
       "      <td>0</td>\n",
       "      <td>0</td>\n",
       "    </tr>\n",
       "  </tbody>\n",
       "</table>\n",
       "<p>5 rows × 40 columns</p>\n",
       "</div>"
      ],
      "text/plain": [
       "     Unnamed: 0 trans_date_trans_time               cc_num  \\\n",
       "126         126   2019-01-01 01:33:52     3567879740649740   \n",
       "159         159   2019-01-01 01:56:51       30442439074871   \n",
       "215         215   2019-01-01 02:38:49  4710826438164847414   \n",
       "404         404   2019-01-01 05:19:42        4464457352619   \n",
       "727         727   2019-01-01 09:27:35     3554849923339851   \n",
       "\n",
       "                                    merchant       category     amt    first  \\\n",
       "126                      fraud_Koss and Sons  gas_transport   58.79    Tanya   \n",
       "159  fraud_Parisian, Schiller and Altenwerth       misc_net   14.03    Linda   \n",
       "215                fraud_Strosin-Cruickshank    grocery_pos  128.24     Juan   \n",
       "404                    fraud_Vandervort-Funk    grocery_pos  124.33  Breanna   \n",
       "727                        fraud_Larson-Moen  entertainment   65.74     John   \n",
       "\n",
       "          last gender                        street  ... category_grocery_pos  \\\n",
       "126   Williams      F                566 Megan Well  ...                    0   \n",
       "159    Sanchez      F    6574 William Hill Apt. 375  ...                    0   \n",
       "215      Henry      M    9795 Lori Island Suite 346  ...                    1   \n",
       "404  Rodriguez      F  118 Cabrera Springs Apt. 105  ...                    1   \n",
       "727     Hudson      M                886 Nicole Key  ...                    0   \n",
       "\n",
       "    category_health_fitness  category_home  category_kids_pets  \\\n",
       "126                       0              0                   0   \n",
       "159                       0              0                   0   \n",
       "215                       0              0                   0   \n",
       "404                       0              0                   0   \n",
       "727                       0              0                   0   \n",
       "\n",
       "     category_misc_net  category_misc_pos category_personal_care  \\\n",
       "126                  0                  0                      0   \n",
       "159                  1                  0                      0   \n",
       "215                  0                  0                      0   \n",
       "404                  0                  0                      0   \n",
       "727                  0                  0                      0   \n",
       "\n",
       "    category_shopping_net category_shopping_pos  category_travel  \n",
       "126                     0                     0                0  \n",
       "159                     0                     0                0  \n",
       "215                     0                     0                0  \n",
       "404                     0                     0                0  \n",
       "727                     0                     0                0  \n",
       "\n",
       "[5 rows x 40 columns]"
      ]
     },
     "execution_count": 18,
     "metadata": {},
     "output_type": "execute_result"
    }
   ],
   "source": [
    "category_onehot = pd.get_dummies(train_df_final.category, prefix='category')\n",
    "train_df_final = train_df_final.join(category_onehot)\n",
    "train_df_final.head()"
   ]
  },
  {
   "cell_type": "markdown",
   "metadata": {},
   "source": [
    "### Test Data"
   ]
  },
  {
   "cell_type": "code",
   "execution_count": 19,
   "metadata": {
    "execution": {
     "iopub.execute_input": "2022-12-04T17:18:43.778365Z",
     "iopub.status.busy": "2022-12-04T17:18:43.778075Z",
     "iopub.status.idle": "2022-12-04T17:18:43.948837Z",
     "shell.execute_reply": "2022-12-04T17:18:43.947903Z",
     "shell.execute_reply.started": "2022-12-04T17:18:43.778327Z"
    }
   },
   "outputs": [
    {
     "data": {
      "text/html": [
       "<div>\n",
       "<style scoped>\n",
       "    .dataframe tbody tr th:only-of-type {\n",
       "        vertical-align: middle;\n",
       "    }\n",
       "\n",
       "    .dataframe tbody tr th {\n",
       "        vertical-align: top;\n",
       "    }\n",
       "\n",
       "    .dataframe thead th {\n",
       "        text-align: right;\n",
       "    }\n",
       "</style>\n",
       "<table border=\"1\" class=\"dataframe\">\n",
       "  <thead>\n",
       "    <tr style=\"text-align: right;\">\n",
       "      <th></th>\n",
       "      <th>Unnamed: 0</th>\n",
       "      <th>trans_date_trans_time</th>\n",
       "      <th>cc_num</th>\n",
       "      <th>merchant</th>\n",
       "      <th>category</th>\n",
       "      <th>amt</th>\n",
       "      <th>first</th>\n",
       "      <th>last</th>\n",
       "      <th>gender</th>\n",
       "      <th>street</th>\n",
       "      <th>...</th>\n",
       "      <th>category_grocery_pos</th>\n",
       "      <th>category_health_fitness</th>\n",
       "      <th>category_home</th>\n",
       "      <th>category_kids_pets</th>\n",
       "      <th>category_misc_net</th>\n",
       "      <th>category_misc_pos</th>\n",
       "      <th>category_personal_care</th>\n",
       "      <th>category_shopping_net</th>\n",
       "      <th>category_shopping_pos</th>\n",
       "      <th>category_travel</th>\n",
       "    </tr>\n",
       "  </thead>\n",
       "  <tbody>\n",
       "    <tr>\n",
       "      <th>0</th>\n",
       "      <td>0</td>\n",
       "      <td>2020-06-21 12:14:25</td>\n",
       "      <td>2291163933867244</td>\n",
       "      <td>fraud_Kirlin and Sons</td>\n",
       "      <td>personal_care</td>\n",
       "      <td>2.86</td>\n",
       "      <td>Jeff</td>\n",
       "      <td>Elliott</td>\n",
       "      <td>M</td>\n",
       "      <td>351 Darlene Green</td>\n",
       "      <td>...</td>\n",
       "      <td>0</td>\n",
       "      <td>0</td>\n",
       "      <td>0</td>\n",
       "      <td>0</td>\n",
       "      <td>0</td>\n",
       "      <td>0</td>\n",
       "      <td>1</td>\n",
       "      <td>0</td>\n",
       "      <td>0</td>\n",
       "      <td>0</td>\n",
       "    </tr>\n",
       "    <tr>\n",
       "      <th>1</th>\n",
       "      <td>1</td>\n",
       "      <td>2020-06-21 12:14:33</td>\n",
       "      <td>3573030041201292</td>\n",
       "      <td>fraud_Sporer-Keebler</td>\n",
       "      <td>personal_care</td>\n",
       "      <td>29.84</td>\n",
       "      <td>Joanne</td>\n",
       "      <td>Williams</td>\n",
       "      <td>F</td>\n",
       "      <td>3638 Marsh Union</td>\n",
       "      <td>...</td>\n",
       "      <td>0</td>\n",
       "      <td>0</td>\n",
       "      <td>0</td>\n",
       "      <td>0</td>\n",
       "      <td>0</td>\n",
       "      <td>0</td>\n",
       "      <td>1</td>\n",
       "      <td>0</td>\n",
       "      <td>0</td>\n",
       "      <td>0</td>\n",
       "    </tr>\n",
       "    <tr>\n",
       "      <th>2</th>\n",
       "      <td>2</td>\n",
       "      <td>2020-06-21 12:14:53</td>\n",
       "      <td>3598215285024754</td>\n",
       "      <td>fraud_Swaniawski, Nitzsche and Welch</td>\n",
       "      <td>health_fitness</td>\n",
       "      <td>41.28</td>\n",
       "      <td>Ashley</td>\n",
       "      <td>Lopez</td>\n",
       "      <td>F</td>\n",
       "      <td>9333 Valentine Point</td>\n",
       "      <td>...</td>\n",
       "      <td>0</td>\n",
       "      <td>1</td>\n",
       "      <td>0</td>\n",
       "      <td>0</td>\n",
       "      <td>0</td>\n",
       "      <td>0</td>\n",
       "      <td>0</td>\n",
       "      <td>0</td>\n",
       "      <td>0</td>\n",
       "      <td>0</td>\n",
       "    </tr>\n",
       "    <tr>\n",
       "      <th>3</th>\n",
       "      <td>3</td>\n",
       "      <td>2020-06-21 12:15:15</td>\n",
       "      <td>3591919803438423</td>\n",
       "      <td>fraud_Haley Group</td>\n",
       "      <td>misc_pos</td>\n",
       "      <td>60.05</td>\n",
       "      <td>Brian</td>\n",
       "      <td>Williams</td>\n",
       "      <td>M</td>\n",
       "      <td>32941 Krystal Mill Apt. 552</td>\n",
       "      <td>...</td>\n",
       "      <td>0</td>\n",
       "      <td>0</td>\n",
       "      <td>0</td>\n",
       "      <td>0</td>\n",
       "      <td>0</td>\n",
       "      <td>1</td>\n",
       "      <td>0</td>\n",
       "      <td>0</td>\n",
       "      <td>0</td>\n",
       "      <td>0</td>\n",
       "    </tr>\n",
       "    <tr>\n",
       "      <th>4</th>\n",
       "      <td>4</td>\n",
       "      <td>2020-06-21 12:15:17</td>\n",
       "      <td>3526826139003047</td>\n",
       "      <td>fraud_Johnston-Casper</td>\n",
       "      <td>travel</td>\n",
       "      <td>3.19</td>\n",
       "      <td>Nathan</td>\n",
       "      <td>Massey</td>\n",
       "      <td>M</td>\n",
       "      <td>5783 Evan Roads Apt. 465</td>\n",
       "      <td>...</td>\n",
       "      <td>0</td>\n",
       "      <td>0</td>\n",
       "      <td>0</td>\n",
       "      <td>0</td>\n",
       "      <td>0</td>\n",
       "      <td>0</td>\n",
       "      <td>0</td>\n",
       "      <td>0</td>\n",
       "      <td>0</td>\n",
       "      <td>1</td>\n",
       "    </tr>\n",
       "  </tbody>\n",
       "</table>\n",
       "<p>5 rows × 40 columns</p>\n",
       "</div>"
      ],
      "text/plain": [
       "   Unnamed: 0 trans_date_trans_time            cc_num  \\\n",
       "0           0   2020-06-21 12:14:25  2291163933867244   \n",
       "1           1   2020-06-21 12:14:33  3573030041201292   \n",
       "2           2   2020-06-21 12:14:53  3598215285024754   \n",
       "3           3   2020-06-21 12:15:15  3591919803438423   \n",
       "4           4   2020-06-21 12:15:17  3526826139003047   \n",
       "\n",
       "                               merchant        category    amt   first  \\\n",
       "0                 fraud_Kirlin and Sons   personal_care   2.86    Jeff   \n",
       "1                  fraud_Sporer-Keebler   personal_care  29.84  Joanne   \n",
       "2  fraud_Swaniawski, Nitzsche and Welch  health_fitness  41.28  Ashley   \n",
       "3                     fraud_Haley Group        misc_pos  60.05   Brian   \n",
       "4                 fraud_Johnston-Casper          travel   3.19  Nathan   \n",
       "\n",
       "       last gender                       street  ... category_grocery_pos  \\\n",
       "0   Elliott      M            351 Darlene Green  ...                    0   \n",
       "1  Williams      F             3638 Marsh Union  ...                    0   \n",
       "2     Lopez      F         9333 Valentine Point  ...                    0   \n",
       "3  Williams      M  32941 Krystal Mill Apt. 552  ...                    0   \n",
       "4    Massey      M     5783 Evan Roads Apt. 465  ...                    0   \n",
       "\n",
       "  category_health_fitness  category_home  category_kids_pets  \\\n",
       "0                       0              0                   0   \n",
       "1                       0              0                   0   \n",
       "2                       1              0                   0   \n",
       "3                       0              0                   0   \n",
       "4                       0              0                   0   \n",
       "\n",
       "   category_misc_net  category_misc_pos category_personal_care  \\\n",
       "0                  0                  0                      1   \n",
       "1                  0                  0                      1   \n",
       "2                  0                  0                      0   \n",
       "3                  0                  1                      0   \n",
       "4                  0                  0                      0   \n",
       "\n",
       "  category_shopping_net category_shopping_pos  category_travel  \n",
       "0                     0                     0                0  \n",
       "1                     0                     0                0  \n",
       "2                     0                     0                0  \n",
       "3                     0                     0                0  \n",
       "4                     0                     0                1  \n",
       "\n",
       "[5 rows x 40 columns]"
      ]
     },
     "execution_count": 19,
     "metadata": {},
     "output_type": "execute_result"
    }
   ],
   "source": [
    "category_onehot_test_data = pd.get_dummies(test_df.category, prefix='category')\n",
    "test_df = test_df.join(category_onehot_test_data)\n",
    "test_df.head()"
   ]
  },
  {
   "cell_type": "markdown",
   "metadata": {},
   "source": [
    "## Gender\n",
    "Change gender from nominal to numerical"
   ]
  },
  {
   "cell_type": "code",
   "execution_count": 20,
   "metadata": {
    "execution": {
     "iopub.execute_input": "2022-12-04T17:18:43.950817Z",
     "iopub.status.busy": "2022-12-04T17:18:43.950505Z",
     "iopub.status.idle": "2022-12-04T17:18:44.156869Z",
     "shell.execute_reply": "2022-12-04T17:18:44.155989Z",
     "shell.execute_reply.started": "2022-12-04T17:18:43.950770Z"
    }
   },
   "outputs": [
    {
     "name": "stdout",
     "output_type": "stream",
     "text": [
      "Gender of train dataset 0    7975\n",
      "1    7091\n",
      "Name: gender, dtype: int64\n",
      "Gender of test dataset 0    304886\n",
      "1    250833\n",
      "Name: gender, dtype: int64\n"
     ]
    }
   ],
   "source": [
    "\n",
    "train_df_final['gender'] = train_df_final['gender'].replace(['F','M'],[0,1])\n",
    "test_df['gender'] = test_df['gender'].replace(['F','M'],[0,1])\n",
    "print('Gender of train dataset', train_df_final['gender'].value_counts())\n",
    "print('Gender of test dataset', test_df['gender'].value_counts())"
   ]
  },
  {
   "cell_type": "markdown",
   "metadata": {},
   "source": [
    "## Merchant\n",
    "Convert Marchant to be numerical data"
   ]
  },
  {
   "cell_type": "code",
   "execution_count": 21,
   "metadata": {
    "execution": {
     "iopub.execute_input": "2022-12-04T17:18:44.158731Z",
     "iopub.status.busy": "2022-12-04T17:18:44.158435Z",
     "iopub.status.idle": "2022-12-04T17:18:44.291128Z",
     "shell.execute_reply": "2022-12-04T17:18:44.290394Z",
     "shell.execute_reply.started": "2022-12-04T17:18:44.158683Z"
    }
   },
   "outputs": [
    {
     "name": "stdout",
     "output_type": "stream",
     "text": [
      "Merchant Number of train dataset 126        332\n",
      "159        475\n",
      "215        608\n",
      "404        645\n",
      "727        376\n",
      "          ... \n",
      "1295710    645\n",
      "1295733    332\n",
      "1295801    442\n",
      "1296013    300\n",
      "1296098    104\n",
      "Name: merchant_number, Length: 15066, dtype: int32\n",
      "Merchant Number of test dataset 0         319\n",
      "1         591\n",
      "2         611\n",
      "3         222\n",
      "4         292\n",
      "         ... \n",
      "555714    507\n",
      "555715    264\n",
      "555716    496\n",
      "555717     75\n",
      "555718    125\n",
      "Name: merchant_number, Length: 555719, dtype: int32\n"
     ]
    }
   ],
   "source": [
    "from sklearn.preprocessing import LabelEncoder\n",
    "label_encoder = LabelEncoder()\n",
    "x_train = train_df_final['merchant']\n",
    "train_df_final['merchant_number'] = label_encoder.fit_transform(x_train)\n",
    "x_test = test_df['merchant']\n",
    "test_df['merchant_number'] = label_encoder.fit_transform(x_test)\n",
    "print('Merchant Number of train dataset',train_df_final['merchant_number'])\n",
    "print('Merchant Number of test dataset',test_df['merchant_number'])"
   ]
  },
  {
   "cell_type": "markdown",
   "metadata": {},
   "source": [
    "## Age\n",
    "Find Age from date of birth data"
   ]
  },
  {
   "cell_type": "code",
   "execution_count": 22,
   "metadata": {
    "execution": {
     "iopub.execute_input": "2022-12-04T17:18:44.292886Z",
     "iopub.status.busy": "2022-12-04T17:18:44.292445Z",
     "iopub.status.idle": "2022-12-04T17:18:44.298034Z",
     "shell.execute_reply": "2022-12-04T17:18:44.297243Z",
     "shell.execute_reply.started": "2022-12-04T17:18:44.292847Z"
    }
   },
   "outputs": [],
   "source": [
    "from datetime import date\n",
    "def calculate_age(row):\n",
    "    today = date.today()\n",
    "    return today.year - row['dob'].year - ((today.month, today.day) < (row['dob'].month, row['dob'].day))\n"
   ]
  },
  {
   "cell_type": "markdown",
   "metadata": {},
   "source": [
    "### Train and test Age calculate"
   ]
  },
  {
   "cell_type": "code",
   "execution_count": 23,
   "metadata": {
    "execution": {
     "iopub.execute_input": "2022-12-04T17:18:44.299889Z",
     "iopub.status.busy": "2022-12-04T17:18:44.299411Z",
     "iopub.status.idle": "2022-12-04T17:19:02.008976Z",
     "shell.execute_reply": "2022-12-04T17:19:02.008230Z",
     "shell.execute_reply.started": "2022-12-04T17:18:44.299851Z"
    }
   },
   "outputs": [
    {
     "name": "stdout",
     "output_type": "stream",
     "text": [
      "Age of train dataset 126    64\n",
      "159    41\n",
      "215    58\n",
      "Name: age, dtype: int64\n",
      "Age of test dataset 0    54\n",
      "1    32\n",
      "2    52\n",
      "Name: age, dtype: int64\n"
     ]
    }
   ],
   "source": [
    "train_df_final['dob'] = pd.to_datetime(train_df_final['dob'])\n",
    "train_df_final['age'] = train_df_final['dob']\n",
    "train_df_final['age'] = train_df_final.apply (lambda row: calculate_age(row), axis=1)\n",
    "\n",
    "test_df['dob'] = pd.to_datetime(test_df['dob'])\n",
    "test_df['age'] = test_df['dob']\n",
    "test_df['age'] = test_df.apply (lambda row: calculate_age(row), axis=1)\n",
    "\n",
    "print('Age of train dataset', train_df_final['age'].head(3))\n",
    "print('Age of test dataset', test_df['age'].head(3))"
   ]
  },
  {
   "cell_type": "markdown",
   "metadata": {},
   "source": [
    "### Job\n",
    "Convert Marchant to be numerical data"
   ]
  },
  {
   "cell_type": "code",
   "execution_count": 24,
   "metadata": {
    "execution": {
     "iopub.execute_input": "2022-12-04T17:19:02.011004Z",
     "iopub.status.busy": "2022-12-04T17:19:02.010171Z",
     "iopub.status.idle": "2022-12-04T17:19:02.123564Z",
     "shell.execute_reply": "2022-12-04T17:19:02.122852Z",
     "shell.execute_reply.started": "2022-12-04T17:19:02.010966Z"
    }
   },
   "outputs": [
    {
     "name": "stdout",
     "output_type": "stream",
     "text": [
      "126        354\n",
      "159        478\n",
      "215        205\n",
      "404        459\n",
      "727         58\n",
      "          ... \n",
      "1295710    423\n",
      "1295733    222\n",
      "1295801    155\n",
      "1296013     70\n",
      "1296098     86\n",
      "Name: job_number, Length: 15066, dtype: int32\n",
      "0         275\n",
      "1         392\n",
      "2         259\n",
      "3         407\n",
      "4         196\n",
      "         ... \n",
      "555714    460\n",
      "555715    198\n",
      "555716    294\n",
      "555717     58\n",
      "555718    276\n",
      "Name: job_number, Length: 555719, dtype: int32\n"
     ]
    }
   ],
   "source": [
    "from sklearn.preprocessing import LabelEncoder\n",
    "label_encoder = LabelEncoder()\n",
    "\n",
    "x_train = train_df_final['job']\n",
    "train_df_final['job_number'] = label_encoder.fit_transform(x_train)\n",
    "print(train_df_final['job_number'])\n",
    "x_test = test_df['job']\n",
    "test_df['job_number'] = label_encoder.fit_transform(x_test)\n",
    "print(test_df['job_number'])"
   ]
  },
  {
   "cell_type": "markdown",
   "metadata": {},
   "source": [
    "# Data Split"
   ]
  },
  {
   "cell_type": "code",
   "execution_count": 25,
   "metadata": {
    "execution": {
     "iopub.execute_input": "2022-12-04T17:19:02.124961Z",
     "iopub.status.busy": "2022-12-04T17:19:02.124726Z",
     "iopub.status.idle": "2022-12-04T17:19:02.131933Z",
     "shell.execute_reply": "2022-12-04T17:19:02.131066Z",
     "shell.execute_reply.started": "2022-12-04T17:19:02.124928Z"
    }
   },
   "outputs": [],
   "source": [
    "#Select Train Data\n",
    "data_train = train_df_final[['amt','category_shopping_net','category_grocery_pos','category_home','category_misc_net',\n",
    "                                         'category_kids_pets','category_health_fitness','gender','age','month_number',\n",
    "                                         'category_food_dining','unix_time','category_personal_care','category_shopping_pos','is_fraud']]\n"
   ]
  },
  {
   "cell_type": "code",
   "execution_count": 26,
   "metadata": {
    "execution": {
     "iopub.execute_input": "2022-12-04T17:19:02.134019Z",
     "iopub.status.busy": "2022-12-04T17:19:02.133197Z",
     "iopub.status.idle": "2022-12-04T17:19:02.187365Z",
     "shell.execute_reply": "2022-12-04T17:19:02.186620Z",
     "shell.execute_reply.started": "2022-12-04T17:19:02.133982Z"
    }
   },
   "outputs": [],
   "source": [
    "#Select Test Data\n",
    "data_test = test_df[['amt','category_shopping_net','category_grocery_pos','category_home','category_misc_net',\n",
    "                                         'category_kids_pets','category_health_fitness','gender','age','month_number',\n",
    "                                         'category_food_dining','unix_time','category_personal_care','category_shopping_pos','is_fraud']]\n"
   ]
  },
  {
   "cell_type": "code",
   "execution_count": 27,
   "metadata": {
    "execution": {
     "iopub.execute_input": "2022-12-04T17:19:02.188985Z",
     "iopub.status.busy": "2022-12-04T17:19:02.188633Z",
     "iopub.status.idle": "2022-12-04T17:19:02.195416Z",
     "shell.execute_reply": "2022-12-04T17:19:02.194706Z",
     "shell.execute_reply.started": "2022-12-04T17:19:02.188949Z"
    }
   },
   "outputs": [],
   "source": [
    "# Prepare X_train y_train\n",
    "X_train = data_train[['amt','category_shopping_net','category_grocery_pos','category_home','category_misc_net',\n",
    "                                         'category_kids_pets','category_health_fitness','gender','age','month_number',\n",
    "                                         'category_food_dining','unix_time','category_personal_care','category_shopping_pos']]\n",
    "y_train = data_train['is_fraud']\n",
    "\n"
   ]
  },
  {
   "cell_type": "code",
   "execution_count": 28,
   "metadata": {
    "execution": {
     "iopub.execute_input": "2022-12-04T17:19:02.197103Z",
     "iopub.status.busy": "2022-12-04T17:19:02.196667Z",
     "iopub.status.idle": "2022-12-04T17:19:02.213848Z",
     "shell.execute_reply": "2022-12-04T17:19:02.213064Z",
     "shell.execute_reply.started": "2022-12-04T17:19:02.197065Z"
    }
   },
   "outputs": [],
   "source": [
    "# Prepare X_test y_test\n",
    "X_test = data_test[['amt','category_shopping_net','category_grocery_pos','category_home','category_misc_net',\n",
    "                                         'category_kids_pets','category_health_fitness','gender','age','month_number',\n",
    "                                         'category_food_dining','unix_time','category_personal_care','category_shopping_pos']]\n",
    "y_test = data_test['is_fraud']\n"
   ]
  },
  {
   "cell_type": "markdown",
   "metadata": {},
   "source": [
    "# Scaler Data"
   ]
  },
  {
   "cell_type": "code",
   "execution_count": 29,
   "metadata": {
    "execution": {
     "iopub.execute_input": "2022-12-04T17:19:02.218701Z",
     "iopub.status.busy": "2022-12-04T17:19:02.218488Z",
     "iopub.status.idle": "2022-12-04T17:19:02.222791Z",
     "shell.execute_reply": "2022-12-04T17:19:02.222121Z",
     "shell.execute_reply.started": "2022-12-04T17:19:02.218677Z"
    }
   },
   "outputs": [],
   "source": [
    "from sklearn import preprocessing"
   ]
  },
  {
   "cell_type": "code",
   "execution_count": 30,
   "metadata": {
    "execution": {
     "iopub.execute_input": "2022-12-04T17:19:02.224766Z",
     "iopub.status.busy": "2022-12-04T17:19:02.224078Z",
     "iopub.status.idle": "2022-12-04T17:19:02.254941Z",
     "shell.execute_reply": "2022-12-04T17:19:02.254087Z",
     "shell.execute_reply.started": "2022-12-04T17:19:02.224732Z"
    }
   },
   "outputs": [
    {
     "data": {
      "text/html": [
       "<div>\n",
       "<style scoped>\n",
       "    .dataframe tbody tr th:only-of-type {\n",
       "        vertical-align: middle;\n",
       "    }\n",
       "\n",
       "    .dataframe tbody tr th {\n",
       "        vertical-align: top;\n",
       "    }\n",
       "\n",
       "    .dataframe thead th {\n",
       "        text-align: right;\n",
       "    }\n",
       "</style>\n",
       "<table border=\"1\" class=\"dataframe\">\n",
       "  <thead>\n",
       "    <tr style=\"text-align: right;\">\n",
       "      <th></th>\n",
       "      <th>amt</th>\n",
       "      <th>category_shopping_net</th>\n",
       "      <th>category_grocery_pos</th>\n",
       "      <th>category_home</th>\n",
       "      <th>category_misc_net</th>\n",
       "      <th>category_kids_pets</th>\n",
       "      <th>category_health_fitness</th>\n",
       "      <th>gender</th>\n",
       "      <th>age</th>\n",
       "      <th>month_number</th>\n",
       "      <th>category_food_dining</th>\n",
       "      <th>unix_time</th>\n",
       "      <th>category_personal_care</th>\n",
       "      <th>category_shopping_pos</th>\n",
       "    </tr>\n",
       "  </thead>\n",
       "  <tbody>\n",
       "    <tr>\n",
       "      <th>0</th>\n",
       "      <td>0.003994</td>\n",
       "      <td>0.0</td>\n",
       "      <td>0.0</td>\n",
       "      <td>0.0</td>\n",
       "      <td>0.0</td>\n",
       "      <td>0.0</td>\n",
       "      <td>0.0</td>\n",
       "      <td>0.0</td>\n",
       "      <td>0.580247</td>\n",
       "      <td>0.0</td>\n",
       "      <td>0.0</td>\n",
       "      <td>0.000000</td>\n",
       "      <td>0.0</td>\n",
       "      <td>0.0</td>\n",
       "    </tr>\n",
       "    <tr>\n",
       "      <th>1</th>\n",
       "      <td>0.000900</td>\n",
       "      <td>0.0</td>\n",
       "      <td>0.0</td>\n",
       "      <td>0.0</td>\n",
       "      <td>1.0</td>\n",
       "      <td>0.0</td>\n",
       "      <td>0.0</td>\n",
       "      <td>0.0</td>\n",
       "      <td>0.296296</td>\n",
       "      <td>0.0</td>\n",
       "      <td>0.0</td>\n",
       "      <td>0.000030</td>\n",
       "      <td>0.0</td>\n",
       "      <td>0.0</td>\n",
       "    </tr>\n",
       "    <tr>\n",
       "      <th>2</th>\n",
       "      <td>0.008795</td>\n",
       "      <td>0.0</td>\n",
       "      <td>1.0</td>\n",
       "      <td>0.0</td>\n",
       "      <td>0.0</td>\n",
       "      <td>0.0</td>\n",
       "      <td>0.0</td>\n",
       "      <td>1.0</td>\n",
       "      <td>0.506173</td>\n",
       "      <td>0.0</td>\n",
       "      <td>0.0</td>\n",
       "      <td>0.000084</td>\n",
       "      <td>0.0</td>\n",
       "      <td>0.0</td>\n",
       "    </tr>\n",
       "    <tr>\n",
       "      <th>3</th>\n",
       "      <td>0.008524</td>\n",
       "      <td>0.0</td>\n",
       "      <td>1.0</td>\n",
       "      <td>0.0</td>\n",
       "      <td>0.0</td>\n",
       "      <td>0.0</td>\n",
       "      <td>0.0</td>\n",
       "      <td>0.0</td>\n",
       "      <td>0.185185</td>\n",
       "      <td>0.0</td>\n",
       "      <td>0.0</td>\n",
       "      <td>0.000292</td>\n",
       "      <td>0.0</td>\n",
       "      <td>0.0</td>\n",
       "    </tr>\n",
       "    <tr>\n",
       "      <th>4</th>\n",
       "      <td>0.004474</td>\n",
       "      <td>0.0</td>\n",
       "      <td>0.0</td>\n",
       "      <td>0.0</td>\n",
       "      <td>0.0</td>\n",
       "      <td>0.0</td>\n",
       "      <td>0.0</td>\n",
       "      <td>1.0</td>\n",
       "      <td>0.703704</td>\n",
       "      <td>0.0</td>\n",
       "      <td>0.0</td>\n",
       "      <td>0.000612</td>\n",
       "      <td>0.0</td>\n",
       "      <td>0.0</td>\n",
       "    </tr>\n",
       "  </tbody>\n",
       "</table>\n",
       "</div>"
      ],
      "text/plain": [
       "        amt  category_shopping_net  category_grocery_pos  category_home  \\\n",
       "0  0.003994                    0.0                   0.0            0.0   \n",
       "1  0.000900                    0.0                   0.0            0.0   \n",
       "2  0.008795                    0.0                   1.0            0.0   \n",
       "3  0.008524                    0.0                   1.0            0.0   \n",
       "4  0.004474                    0.0                   0.0            0.0   \n",
       "\n",
       "   category_misc_net  category_kids_pets  category_health_fitness  gender  \\\n",
       "0                0.0                 0.0                      0.0     0.0   \n",
       "1                1.0                 0.0                      0.0     0.0   \n",
       "2                0.0                 0.0                      0.0     1.0   \n",
       "3                0.0                 0.0                      0.0     0.0   \n",
       "4                0.0                 0.0                      0.0     1.0   \n",
       "\n",
       "        age  month_number  category_food_dining  unix_time  \\\n",
       "0  0.580247           0.0                   0.0   0.000000   \n",
       "1  0.296296           0.0                   0.0   0.000030   \n",
       "2  0.506173           0.0                   0.0   0.000084   \n",
       "3  0.185185           0.0                   0.0   0.000292   \n",
       "4  0.703704           0.0                   0.0   0.000612   \n",
       "\n",
       "   category_personal_care  category_shopping_pos  \n",
       "0                     0.0                    0.0  \n",
       "1                     0.0                    0.0  \n",
       "2                     0.0                    0.0  \n",
       "3                     0.0                    0.0  \n",
       "4                     0.0                    0.0  "
      ]
     },
     "execution_count": 30,
     "metadata": {},
     "output_type": "execute_result"
    }
   ],
   "source": [
    "# Scale X_train\n",
    "scaler = preprocessing.MinMaxScaler()\n",
    "newValue = scaler.fit_transform(X_train)\n",
    "X_train = pd.DataFrame(newValue, columns=X_train.columns)\n",
    "X_train.head()"
   ]
  },
  {
   "cell_type": "code",
   "execution_count": 31,
   "metadata": {
    "execution": {
     "iopub.execute_input": "2022-12-04T17:19:02.256528Z",
     "iopub.status.busy": "2022-12-04T17:19:02.256232Z",
     "iopub.status.idle": "2022-12-04T17:19:02.369948Z",
     "shell.execute_reply": "2022-12-04T17:19:02.369038Z",
     "shell.execute_reply.started": "2022-12-04T17:19:02.256495Z"
    }
   },
   "outputs": [
    {
     "data": {
      "text/html": [
       "<div>\n",
       "<style scoped>\n",
       "    .dataframe tbody tr th:only-of-type {\n",
       "        vertical-align: middle;\n",
       "    }\n",
       "\n",
       "    .dataframe tbody tr th {\n",
       "        vertical-align: top;\n",
       "    }\n",
       "\n",
       "    .dataframe thead th {\n",
       "        text-align: right;\n",
       "    }\n",
       "</style>\n",
       "<table border=\"1\" class=\"dataframe\">\n",
       "  <thead>\n",
       "    <tr style=\"text-align: right;\">\n",
       "      <th></th>\n",
       "      <th>amt</th>\n",
       "      <th>category_shopping_net</th>\n",
       "      <th>category_grocery_pos</th>\n",
       "      <th>category_home</th>\n",
       "      <th>category_misc_net</th>\n",
       "      <th>category_kids_pets</th>\n",
       "      <th>category_health_fitness</th>\n",
       "      <th>gender</th>\n",
       "      <th>age</th>\n",
       "      <th>month_number</th>\n",
       "      <th>category_food_dining</th>\n",
       "      <th>unix_time</th>\n",
       "      <th>category_personal_care</th>\n",
       "      <th>category_shopping_pos</th>\n",
       "    </tr>\n",
       "  </thead>\n",
       "  <tbody>\n",
       "    <tr>\n",
       "      <th>0</th>\n",
       "      <td>0.000082</td>\n",
       "      <td>0.0</td>\n",
       "      <td>0.0</td>\n",
       "      <td>0.0</td>\n",
       "      <td>0.0</td>\n",
       "      <td>0.0</td>\n",
       "      <td>0.0</td>\n",
       "      <td>1.0</td>\n",
       "      <td>0.456790</td>\n",
       "      <td>0.0</td>\n",
       "      <td>0.0</td>\n",
       "      <td>0.000000e+00</td>\n",
       "      <td>1.0</td>\n",
       "      <td>0.0</td>\n",
       "    </tr>\n",
       "    <tr>\n",
       "      <th>1</th>\n",
       "      <td>0.001267</td>\n",
       "      <td>0.0</td>\n",
       "      <td>0.0</td>\n",
       "      <td>0.0</td>\n",
       "      <td>0.0</td>\n",
       "      <td>0.0</td>\n",
       "      <td>0.0</td>\n",
       "      <td>0.0</td>\n",
       "      <td>0.185185</td>\n",
       "      <td>0.0</td>\n",
       "      <td>0.0</td>\n",
       "      <td>4.785402e-07</td>\n",
       "      <td>1.0</td>\n",
       "      <td>0.0</td>\n",
       "    </tr>\n",
       "    <tr>\n",
       "      <th>2</th>\n",
       "      <td>0.001769</td>\n",
       "      <td>0.0</td>\n",
       "      <td>0.0</td>\n",
       "      <td>0.0</td>\n",
       "      <td>0.0</td>\n",
       "      <td>0.0</td>\n",
       "      <td>1.0</td>\n",
       "      <td>0.0</td>\n",
       "      <td>0.432099</td>\n",
       "      <td>0.0</td>\n",
       "      <td>0.0</td>\n",
       "      <td>1.674891e-06</td>\n",
       "      <td>0.0</td>\n",
       "      <td>0.0</td>\n",
       "    </tr>\n",
       "    <tr>\n",
       "      <th>3</th>\n",
       "      <td>0.002594</td>\n",
       "      <td>0.0</td>\n",
       "      <td>0.0</td>\n",
       "      <td>0.0</td>\n",
       "      <td>0.0</td>\n",
       "      <td>0.0</td>\n",
       "      <td>0.0</td>\n",
       "      <td>1.0</td>\n",
       "      <td>0.222222</td>\n",
       "      <td>0.0</td>\n",
       "      <td>0.0</td>\n",
       "      <td>2.990876e-06</td>\n",
       "      <td>0.0</td>\n",
       "      <td>0.0</td>\n",
       "    </tr>\n",
       "    <tr>\n",
       "      <th>4</th>\n",
       "      <td>0.000096</td>\n",
       "      <td>0.0</td>\n",
       "      <td>0.0</td>\n",
       "      <td>0.0</td>\n",
       "      <td>0.0</td>\n",
       "      <td>0.0</td>\n",
       "      <td>0.0</td>\n",
       "      <td>1.0</td>\n",
       "      <td>0.617284</td>\n",
       "      <td>0.0</td>\n",
       "      <td>0.0</td>\n",
       "      <td>3.110511e-06</td>\n",
       "      <td>0.0</td>\n",
       "      <td>0.0</td>\n",
       "    </tr>\n",
       "  </tbody>\n",
       "</table>\n",
       "</div>"
      ],
      "text/plain": [
       "        amt  category_shopping_net  category_grocery_pos  category_home  \\\n",
       "0  0.000082                    0.0                   0.0            0.0   \n",
       "1  0.001267                    0.0                   0.0            0.0   \n",
       "2  0.001769                    0.0                   0.0            0.0   \n",
       "3  0.002594                    0.0                   0.0            0.0   \n",
       "4  0.000096                    0.0                   0.0            0.0   \n",
       "\n",
       "   category_misc_net  category_kids_pets  category_health_fitness  gender  \\\n",
       "0                0.0                 0.0                      0.0     1.0   \n",
       "1                0.0                 0.0                      0.0     0.0   \n",
       "2                0.0                 0.0                      1.0     0.0   \n",
       "3                0.0                 0.0                      0.0     1.0   \n",
       "4                0.0                 0.0                      0.0     1.0   \n",
       "\n",
       "        age  month_number  category_food_dining     unix_time  \\\n",
       "0  0.456790           0.0                   0.0  0.000000e+00   \n",
       "1  0.185185           0.0                   0.0  4.785402e-07   \n",
       "2  0.432099           0.0                   0.0  1.674891e-06   \n",
       "3  0.222222           0.0                   0.0  2.990876e-06   \n",
       "4  0.617284           0.0                   0.0  3.110511e-06   \n",
       "\n",
       "   category_personal_care  category_shopping_pos  \n",
       "0                     1.0                    0.0  \n",
       "1                     1.0                    0.0  \n",
       "2                     0.0                    0.0  \n",
       "3                     0.0                    0.0  \n",
       "4                     0.0                    0.0  "
      ]
     },
     "execution_count": 31,
     "metadata": {},
     "output_type": "execute_result"
    }
   ],
   "source": [
    "# Scale X_test\n",
    "scaler = preprocessing.MinMaxScaler()\n",
    "newValue = scaler.fit_transform(X_test)\n",
    "X_test = pd.DataFrame(newValue, columns=X_test.columns)\n",
    "X_test.head()"
   ]
  },
  {
   "cell_type": "markdown",
   "metadata": {},
   "source": [
    "# Model\n"
   ]
  },
  {
   "cell_type": "markdown",
   "metadata": {},
   "source": [
    "## Support Vector Machine"
   ]
  },
  {
   "cell_type": "code",
   "execution_count": 32,
   "metadata": {
    "execution": {
     "iopub.execute_input": "2022-12-04T17:19:02.371761Z",
     "iopub.status.busy": "2022-12-04T17:19:02.371378Z",
     "iopub.status.idle": "2022-12-04T17:19:07.559083Z",
     "shell.execute_reply": "2022-12-04T17:19:07.558394Z",
     "shell.execute_reply.started": "2022-12-04T17:19:02.371720Z"
    }
   },
   "outputs": [
    {
     "data": {
      "text/html": [
       "<style>#sk-container-id-1 {color: black;background-color: white;}#sk-container-id-1 pre{padding: 0;}#sk-container-id-1 div.sk-toggleable {background-color: white;}#sk-container-id-1 label.sk-toggleable__label {cursor: pointer;display: block;width: 100%;margin-bottom: 0;padding: 0.3em;box-sizing: border-box;text-align: center;}#sk-container-id-1 label.sk-toggleable__label-arrow:before {content: \"▸\";float: left;margin-right: 0.25em;color: #696969;}#sk-container-id-1 label.sk-toggleable__label-arrow:hover:before {color: black;}#sk-container-id-1 div.sk-estimator:hover label.sk-toggleable__label-arrow:before {color: black;}#sk-container-id-1 div.sk-toggleable__content {max-height: 0;max-width: 0;overflow: hidden;text-align: left;background-color: #f0f8ff;}#sk-container-id-1 div.sk-toggleable__content pre {margin: 0.2em;color: black;border-radius: 0.25em;background-color: #f0f8ff;}#sk-container-id-1 input.sk-toggleable__control:checked~div.sk-toggleable__content {max-height: 200px;max-width: 100%;overflow: auto;}#sk-container-id-1 input.sk-toggleable__control:checked~label.sk-toggleable__label-arrow:before {content: \"▾\";}#sk-container-id-1 div.sk-estimator input.sk-toggleable__control:checked~label.sk-toggleable__label {background-color: #d4ebff;}#sk-container-id-1 div.sk-label input.sk-toggleable__control:checked~label.sk-toggleable__label {background-color: #d4ebff;}#sk-container-id-1 input.sk-hidden--visually {border: 0;clip: rect(1px 1px 1px 1px);clip: rect(1px, 1px, 1px, 1px);height: 1px;margin: -1px;overflow: hidden;padding: 0;position: absolute;width: 1px;}#sk-container-id-1 div.sk-estimator {font-family: monospace;background-color: #f0f8ff;border: 1px dotted black;border-radius: 0.25em;box-sizing: border-box;margin-bottom: 0.5em;}#sk-container-id-1 div.sk-estimator:hover {background-color: #d4ebff;}#sk-container-id-1 div.sk-parallel-item::after {content: \"\";width: 100%;border-bottom: 1px solid gray;flex-grow: 1;}#sk-container-id-1 div.sk-label:hover label.sk-toggleable__label {background-color: #d4ebff;}#sk-container-id-1 div.sk-serial::before {content: \"\";position: absolute;border-left: 1px solid gray;box-sizing: border-box;top: 0;bottom: 0;left: 50%;z-index: 0;}#sk-container-id-1 div.sk-serial {display: flex;flex-direction: column;align-items: center;background-color: white;padding-right: 0.2em;padding-left: 0.2em;position: relative;}#sk-container-id-1 div.sk-item {position: relative;z-index: 1;}#sk-container-id-1 div.sk-parallel {display: flex;align-items: stretch;justify-content: center;background-color: white;position: relative;}#sk-container-id-1 div.sk-item::before, #sk-container-id-1 div.sk-parallel-item::before {content: \"\";position: absolute;border-left: 1px solid gray;box-sizing: border-box;top: 0;bottom: 0;left: 50%;z-index: -1;}#sk-container-id-1 div.sk-parallel-item {display: flex;flex-direction: column;z-index: 1;position: relative;background-color: white;}#sk-container-id-1 div.sk-parallel-item:first-child::after {align-self: flex-end;width: 50%;}#sk-container-id-1 div.sk-parallel-item:last-child::after {align-self: flex-start;width: 50%;}#sk-container-id-1 div.sk-parallel-item:only-child::after {width: 0;}#sk-container-id-1 div.sk-dashed-wrapped {border: 1px dashed gray;margin: 0 0.4em 0.5em 0.4em;box-sizing: border-box;padding-bottom: 0.4em;background-color: white;}#sk-container-id-1 div.sk-label label {font-family: monospace;font-weight: bold;display: inline-block;line-height: 1.2em;}#sk-container-id-1 div.sk-label-container {text-align: center;}#sk-container-id-1 div.sk-container {/* jupyter's `normalize.less` sets `[hidden] { display: none; }` but bootstrap.min.css set `[hidden] { display: none !important; }` so we also need the `!important` here to be able to override the default hidden behavior on the sphinx rendered scikit-learn.org. See: https://github.com/scikit-learn/scikit-learn/issues/21755 */display: inline-block !important;position: relative;}#sk-container-id-1 div.sk-text-repr-fallback {display: none;}</style><div id=\"sk-container-id-1\" class=\"sk-top-container\"><div class=\"sk-text-repr-fallback\"><pre>SVC(kernel=&#x27;linear&#x27;)</pre><b>In a Jupyter environment, please rerun this cell to show the HTML representation or trust the notebook. <br />On GitHub, the HTML representation is unable to render, please try loading this page with nbviewer.org.</b></div><div class=\"sk-container\" hidden><div class=\"sk-item\"><div class=\"sk-estimator sk-toggleable\"><input class=\"sk-toggleable__control sk-hidden--visually\" id=\"sk-estimator-id-1\" type=\"checkbox\" checked><label for=\"sk-estimator-id-1\" class=\"sk-toggleable__label sk-toggleable__label-arrow\">SVC</label><div class=\"sk-toggleable__content\"><pre>SVC(kernel=&#x27;linear&#x27;)</pre></div></div></div></div></div>"
      ],
      "text/plain": [
       "SVC(kernel='linear')"
      ]
     },
     "execution_count": 32,
     "metadata": {},
     "output_type": "execute_result"
    }
   ],
   "source": [
    "from sklearn.svm import SVC  \n",
    "clf = SVC(kernel='linear') \n",
    "  \n",
    "# fitting x samples and y classes \n",
    "clf.fit(X_train, y_train)"
   ]
  },
  {
   "cell_type": "code",
   "execution_count": 33,
   "metadata": {
    "execution": {
     "iopub.execute_input": "2022-12-04T17:19:28.915540Z",
     "iopub.status.busy": "2022-12-04T17:19:28.915274Z",
     "iopub.status.idle": "2022-12-04T17:20:23.731022Z",
     "shell.execute_reply": "2022-12-04T17:20:23.730198Z",
     "shell.execute_reply.started": "2022-12-04T17:19:28.915511Z"
    }
   },
   "outputs": [],
   "source": [
    "#Predict\n",
    "y_pred = clf.predict(X_test)\n"
   ]
  },
  {
   "cell_type": "code",
   "execution_count": 34,
   "metadata": {
    "execution": {
     "iopub.execute_input": "2022-12-04T17:20:23.732924Z",
     "iopub.status.busy": "2022-12-04T17:20:23.732650Z",
     "iopub.status.idle": "2022-12-04T17:20:24.562758Z",
     "shell.execute_reply": "2022-12-04T17:20:24.561988Z",
     "shell.execute_reply.started": "2022-12-04T17:20:23.732889Z"
    }
   },
   "outputs": [
    {
     "data": {
      "text/plain": [
       "<AxesSubplot: >"
      ]
     },
     "execution_count": 34,
     "metadata": {},
     "output_type": "execute_result"
    },
    {
     "data": {
      "image/png": "[encoded data removed]",
      "text/plain": [
       "<Figure size 1000x800 with 2 Axes>"
      ]
     },
     "metadata": {},
     "output_type": "display_data"
    }
   ],
   "source": [
    "# Confusion matrix\n",
    "cf=confusion_matrix(y_test,y_pred)\n",
    "plt.figure(figsize=(10,8))\n",
    "sns.heatmap(cf/np.sum(cf), annot=True, \n",
    "            fmt='.2%', cmap='Blues')"
   ]
  },
  {
   "cell_type": "code",
   "execution_count": 35,
   "metadata": {
    "execution": {
     "iopub.execute_input": "2022-12-04T17:20:24.566290Z",
     "iopub.status.busy": "2022-12-04T17:20:24.564135Z",
     "iopub.status.idle": "2022-12-04T17:20:25.121698Z",
     "shell.execute_reply": "2022-12-04T17:20:25.120913Z",
     "shell.execute_reply.started": "2022-12-04T17:20:24.566208Z"
    }
   },
   "outputs": [
    {
     "name": "stdout",
     "output_type": "stream",
     "text": [
      "Classification report\n",
      "              precision    recall  f1-score   support\n",
      "\n",
      "           0       1.00      0.90      0.95    553574\n",
      "           1       0.03      0.69      0.05      2145\n",
      "\n",
      "    accuracy                           0.90    555719\n",
      "   macro avg       0.51      0.79      0.50    555719\n",
      "weighted avg       0.99      0.90      0.94    555719\n",
      "\n"
     ]
    }
   ],
   "source": [
    "\n",
    "print(\"Classification report\")\n",
    "print(classification_report(y_test, y_pred))\n"
   ]
  },
  {
   "cell_type": "markdown",
   "metadata": {},
   "source": [
    "## Decision Tree Classifier"
   ]
  },
  {
   "cell_type": "code",
   "execution_count": 36,
   "metadata": {
    "execution": {
     "iopub.execute_input": "2022-12-04T17:20:25.124072Z",
     "iopub.status.busy": "2022-12-04T17:20:25.123804Z",
     "iopub.status.idle": "2022-12-04T17:20:25.128400Z",
     "shell.execute_reply": "2022-12-04T17:20:25.127254Z",
     "shell.execute_reply.started": "2022-12-04T17:20:25.124035Z"
    }
   },
   "outputs": [],
   "source": [
    "from sklearn.tree import DecisionTreeClassifier"
   ]
  },
  {
   "cell_type": "code",
   "execution_count": 37,
   "metadata": {
    "execution": {
     "iopub.execute_input": "2022-12-04T17:20:25.130442Z",
     "iopub.status.busy": "2022-12-04T17:20:25.130190Z",
     "iopub.status.idle": "2022-12-04T17:20:25.233602Z",
     "shell.execute_reply": "2022-12-04T17:20:25.232838Z",
     "shell.execute_reply.started": "2022-12-04T17:20:25.130409Z"
    }
   },
   "outputs": [],
   "source": [
    "# Create Decision Tree classifer object\n",
    "clf = DecisionTreeClassifier()\n",
    "\n",
    "# Train Decision Tree Classifer\n",
    "clf = clf.fit(X_train,y_train)\n",
    "\n",
    "#Predict the response for test dataset\n",
    "y_pred = clf.predict(X_test)"
   ]
  },
  {
   "cell_type": "code",
   "execution_count": 38,
   "metadata": {
    "execution": {
     "iopub.execute_input": "2022-12-04T17:20:25.234966Z",
     "iopub.status.busy": "2022-12-04T17:20:25.234724Z",
     "iopub.status.idle": "2022-12-04T17:20:25.841104Z",
     "shell.execute_reply": "2022-12-04T17:20:25.840415Z",
     "shell.execute_reply.started": "2022-12-04T17:20:25.234934Z"
    }
   },
   "outputs": [
    {
     "data": {
      "text/plain": [
       "<AxesSubplot: >"
      ]
     },
     "execution_count": 38,
     "metadata": {},
     "output_type": "execute_result"
    },
    {
     "data": {
      "image/png": "[encoded data removed]",
      "text/plain": [
       "<Figure size 1000x800 with 2 Axes>"
      ]
     },
     "metadata": {},
     "output_type": "display_data"
    }
   ],
   "source": [
    "\n",
    "# Confusion matrix\n",
    "cf=confusion_matrix(y_test,y_pred)\n",
    "plt.figure(figsize=(10,8))\n",
    "sns.heatmap(cf/np.sum(cf), annot=True, \n",
    "            fmt='.2%', cmap='Blues')"
   ]
  },
  {
   "cell_type": "code",
   "execution_count": 39,
   "metadata": {
    "execution": {
     "iopub.execute_input": "2022-12-04T17:20:25.842492Z",
     "iopub.status.busy": "2022-12-04T17:20:25.842248Z",
     "iopub.status.idle": "2022-12-04T17:20:26.356095Z",
     "shell.execute_reply": "2022-12-04T17:20:26.355262Z",
     "shell.execute_reply.started": "2022-12-04T17:20:25.842458Z"
    }
   },
   "outputs": [
    {
     "name": "stdout",
     "output_type": "stream",
     "text": [
      "Classification report\n",
      "              precision    recall  f1-score   support\n",
      "\n",
      "           0       1.00      0.93      0.96    553574\n",
      "           1       0.01      0.25      0.03      2145\n",
      "\n",
      "    accuracy                           0.93    555719\n",
      "   macro avg       0.51      0.59      0.50    555719\n",
      "weighted avg       0.99      0.93      0.96    555719\n",
      "\n"
     ]
    }
   ],
   "source": [
    "\n",
    "print(\"Classification report\")\n",
    "print(classification_report(y_test, y_pred))\n"
   ]
  },
  {
   "cell_type": "markdown",
   "metadata": {},
   "source": [
    "## LogisticRegression"
   ]
  },
  {
   "cell_type": "code",
   "execution_count": 40,
   "metadata": {
    "execution": {
     "iopub.execute_input": "2022-12-04T17:20:26.357789Z",
     "iopub.status.busy": "2022-12-04T17:20:26.357504Z",
     "iopub.status.idle": "2022-12-04T17:20:26.363184Z",
     "shell.execute_reply": "2022-12-04T17:20:26.362450Z",
     "shell.execute_reply.started": "2022-12-04T17:20:26.357753Z"
    }
   },
   "outputs": [],
   "source": [
    "from sklearn.linear_model import LogisticRegression\n",
    "from sklearn import preprocessing\n",
    "from sklearn.model_selection import  cross_val_score\n",
    "from sklearn.metrics import confusion_matrix\n",
    "from sklearn.metrics import classification_report, confusion_matrix"
   ]
  },
  {
   "cell_type": "code",
   "execution_count": 41,
   "metadata": {
    "execution": {
     "iopub.execute_input": "2022-12-04T17:20:26.364901Z",
     "iopub.status.busy": "2022-12-04T17:20:26.364298Z",
     "iopub.status.idle": "2022-12-04T17:20:26.457139Z",
     "shell.execute_reply": "2022-12-04T17:20:26.456278Z",
     "shell.execute_reply.started": "2022-12-04T17:20:26.364863Z"
    }
   },
   "outputs": [
    {
     "data": {
      "text/html": [
       "<style>#sk-container-id-2 {color: black;background-color: white;}#sk-container-id-2 pre{padding: 0;}#sk-container-id-2 div.sk-toggleable {background-color: white;}#sk-container-id-2 label.sk-toggleable__label {cursor: pointer;display: block;width: 100%;margin-bottom: 0;padding: 0.3em;box-sizing: border-box;text-align: center;}#sk-container-id-2 label.sk-toggleable__label-arrow:before {content: \"▸\";float: left;margin-right: 0.25em;color: #696969;}#sk-container-id-2 label.sk-toggleable__label-arrow:hover:before {color: black;}#sk-container-id-2 div.sk-estimator:hover label.sk-toggleable__label-arrow:before {color: black;}#sk-container-id-2 div.sk-toggleable__content {max-height: 0;max-width: 0;overflow: hidden;text-align: left;background-color: #f0f8ff;}#sk-container-id-2 div.sk-toggleable__content pre {margin: 0.2em;color: black;border-radius: 0.25em;background-color: #f0f8ff;}#sk-container-id-2 input.sk-toggleable__control:checked~div.sk-toggleable__content {max-height: 200px;max-width: 100%;overflow: auto;}#sk-container-id-2 input.sk-toggleable__control:checked~label.sk-toggleable__label-arrow:before {content: \"▾\";}#sk-container-id-2 div.sk-estimator input.sk-toggleable__control:checked~label.sk-toggleable__label {background-color: #d4ebff;}#sk-container-id-2 div.sk-label input.sk-toggleable__control:checked~label.sk-toggleable__label {background-color: #d4ebff;}#sk-container-id-2 input.sk-hidden--visually {border: 0;clip: rect(1px 1px 1px 1px);clip: rect(1px, 1px, 1px, 1px);height: 1px;margin: -1px;overflow: hidden;padding: 0;position: absolute;width: 1px;}#sk-container-id-2 div.sk-estimator {font-family: monospace;background-color: #f0f8ff;border: 1px dotted black;border-radius: 0.25em;box-sizing: border-box;margin-bottom: 0.5em;}#sk-container-id-2 div.sk-estimator:hover {background-color: #d4ebff;}#sk-container-id-2 div.sk-parallel-item::after {content: \"\";width: 100%;border-bottom: 1px solid gray;flex-grow: 1;}#sk-container-id-2 div.sk-label:hover label.sk-toggleable__label {background-color: #d4ebff;}#sk-container-id-2 div.sk-serial::before {content: \"\";position: absolute;border-left: 1px solid gray;box-sizing: border-box;top: 0;bottom: 0;left: 50%;z-index: 0;}#sk-container-id-2 div.sk-serial {display: flex;flex-direction: column;align-items: center;background-color: white;padding-right: 0.2em;padding-left: 0.2em;position: relative;}#sk-container-id-2 div.sk-item {position: relative;z-index: 1;}#sk-container-id-2 div.sk-parallel {display: flex;align-items: stretch;justify-content: center;background-color: white;position: relative;}#sk-container-id-2 div.sk-item::before, #sk-container-id-2 div.sk-parallel-item::before {content: \"\";position: absolute;border-left: 1px solid gray;box-sizing: border-box;top: 0;bottom: 0;left: 50%;z-index: -1;}#sk-container-id-2 div.sk-parallel-item {display: flex;flex-direction: column;z-index: 1;position: relative;background-color: white;}#sk-container-id-2 div.sk-parallel-item:first-child::after {align-self: flex-end;width: 50%;}#sk-container-id-2 div.sk-parallel-item:last-child::after {align-self: flex-start;width: 50%;}#sk-container-id-2 div.sk-parallel-item:only-child::after {width: 0;}#sk-container-id-2 div.sk-dashed-wrapped {border: 1px dashed gray;margin: 0 0.4em 0.5em 0.4em;box-sizing: border-box;padding-bottom: 0.4em;background-color: white;}#sk-container-id-2 div.sk-label label {font-family: monospace;font-weight: bold;display: inline-block;line-height: 1.2em;}#sk-container-id-2 div.sk-label-container {text-align: center;}#sk-container-id-2 div.sk-container {/* jupyter's `normalize.less` sets `[hidden] { display: none; }` but bootstrap.min.css set `[hidden] { display: none !important; }` so we also need the `!important` here to be able to override the default hidden behavior on the sphinx rendered scikit-learn.org. See: https://github.com/scikit-learn/scikit-learn/issues/21755 */display: inline-block !important;position: relative;}#sk-container-id-2 div.sk-text-repr-fallback {display: none;}</style><div id=\"sk-container-id-2\" class=\"sk-top-container\"><div class=\"sk-text-repr-fallback\"><pre>LogisticRegression(random_state=42)</pre><b>In a Jupyter environment, please rerun this cell to show the HTML representation or trust the notebook. <br />On GitHub, the HTML representation is unable to render, please try loading this page with nbviewer.org.</b></div><div class=\"sk-container\" hidden><div class=\"sk-item\"><div class=\"sk-estimator sk-toggleable\"><input class=\"sk-toggleable__control sk-hidden--visually\" id=\"sk-estimator-id-2\" type=\"checkbox\" checked><label for=\"sk-estimator-id-2\" class=\"sk-toggleable__label sk-toggleable__label-arrow\">LogisticRegression</label><div class=\"sk-toggleable__content\"><pre>LogisticRegression(random_state=42)</pre></div></div></div></div></div>"
      ],
      "text/plain": [
       "LogisticRegression(random_state=42)"
      ]
     },
     "execution_count": 41,
     "metadata": {},
     "output_type": "execute_result"
    }
   ],
   "source": [
    "model = LogisticRegression(random_state=42)\n",
    "model.fit(X_train, y_train)\n"
   ]
  },
  {
   "cell_type": "code",
   "execution_count": 42,
   "metadata": {
    "execution": {
     "iopub.execute_input": "2022-12-04T17:20:26.460249Z",
     "iopub.status.busy": "2022-12-04T17:20:26.459551Z",
     "iopub.status.idle": "2022-12-04T17:20:26.483512Z",
     "shell.execute_reply": "2022-12-04T17:20:26.482626Z",
     "shell.execute_reply.started": "2022-12-04T17:20:26.460212Z"
    }
   },
   "outputs": [],
   "source": [
    "#Predict\n",
    "y_pred = model.predict(X_test)\n"
   ]
  },
  {
   "cell_type": "markdown",
   "metadata": {},
   "source": [
    "# Confusion matrix"
   ]
  },
  {
   "cell_type": "code",
   "execution_count": 43,
   "metadata": {
    "execution": {
     "iopub.execute_input": "2022-12-04T17:20:26.484959Z",
     "iopub.status.busy": "2022-12-04T17:20:26.484596Z",
     "iopub.status.idle": "2022-12-04T17:20:26.942365Z",
     "shell.execute_reply": "2022-12-04T17:20:26.941620Z",
     "shell.execute_reply.started": "2022-12-04T17:20:26.484926Z"
    }
   },
   "outputs": [],
   "source": [
    "# Confusion matrix\n",
    "cf=confusion_matrix(y_test,y_pred)\n"
   ]
  },
  {
   "cell_type": "code",
   "execution_count": 44,
   "metadata": {
    "execution": {
     "iopub.execute_input": "2022-12-04T17:20:26.944044Z",
     "iopub.status.busy": "2022-12-04T17:20:26.943784Z",
     "iopub.status.idle": "2022-12-04T17:20:26.949419Z",
     "shell.execute_reply": "2022-12-04T17:20:26.948693Z",
     "shell.execute_reply.started": "2022-12-04T17:20:26.944007Z"
    }
   },
   "outputs": [
    {
     "data": {
      "text/plain": [
       "(555719, 14)"
      ]
     },
     "execution_count": 44,
     "metadata": {},
     "output_type": "execute_result"
    }
   ],
   "source": [
    "X_test.shape"
   ]
  },
  {
   "cell_type": "code",
   "execution_count": 45,
   "metadata": {
    "execution": {
     "iopub.execute_input": "2022-12-04T17:20:26.951409Z",
     "iopub.status.busy": "2022-12-04T17:20:26.950929Z",
     "iopub.status.idle": "2022-12-04T17:20:27.181650Z",
     "shell.execute_reply": "2022-12-04T17:20:27.180988Z",
     "shell.execute_reply.started": "2022-12-04T17:20:26.951351Z"
    }
   },
   "outputs": [
    {
     "data": {
      "text/plain": [
       "<AxesSubplot: >"
      ]
     },
     "execution_count": 45,
     "metadata": {},
     "output_type": "execute_result"
    },
    {
     "data": {
      "image/png": "[encoded data removed]",
      "text/plain": [
       "<Figure size 1000x800 with 2 Axes>"
      ]
     },
     "metadata": {},
     "output_type": "display_data"
    }
   ],
   "source": [
    "\n",
    "plt.figure(figsize=(10,8))\n",
    "sns.heatmap(cf/np.sum(cf), annot=True, \n",
    "            fmt='.2%', cmap='Blues')"
   ]
  },
  {
   "cell_type": "markdown",
   "metadata": {},
   "source": [
    "# Classification Report"
   ]
  },
  {
   "cell_type": "code",
   "execution_count": 46,
   "metadata": {
    "execution": {
     "iopub.execute_input": "2022-12-04T17:20:27.182965Z",
     "iopub.status.busy": "2022-12-04T17:20:27.182719Z",
     "iopub.status.idle": "2022-12-04T17:20:27.717880Z",
     "shell.execute_reply": "2022-12-04T17:20:27.717068Z",
     "shell.execute_reply.started": "2022-12-04T17:20:27.182928Z"
    }
   },
   "outputs": [
    {
     "name": "stdout",
     "output_type": "stream",
     "text": [
      "Classification report\n",
      "              precision    recall  f1-score   support\n",
      "\n",
      "           0       1.00      0.91      0.95    553574\n",
      "           1       0.03      0.69      0.05      2145\n",
      "\n",
      "    accuracy                           0.91    555719\n",
      "   macro avg       0.51      0.80      0.50    555719\n",
      "weighted avg       0.99      0.91      0.95    555719\n",
      "\n"
     ]
    }
   ],
   "source": [
    "\n",
    "print(\"Classification report\")\n",
    "print(classification_report(y_test, y_pred))\n"
   ]
  },
  {
   "cell_type": "markdown",
   "metadata": {},
   "source": [
    "# ROC_Curve"
   ]
  },
  {
   "cell_type": "code",
   "execution_count": 47,
   "metadata": {
    "execution": {
     "iopub.execute_input": "2022-12-04T17:20:27.719706Z",
     "iopub.status.busy": "2022-12-04T17:20:27.719265Z",
     "iopub.status.idle": "2022-12-04T17:20:27.723913Z",
     "shell.execute_reply": "2022-12-04T17:20:27.722932Z",
     "shell.execute_reply.started": "2022-12-04T17:20:27.719666Z"
    }
   },
   "outputs": [],
   "source": [
    "from sklearn import metrics"
   ]
  },
  {
   "cell_type": "code",
   "execution_count": 48,
   "metadata": {
    "execution": {
     "iopub.execute_input": "2022-12-04T17:20:27.725934Z",
     "iopub.status.busy": "2022-12-04T17:20:27.725552Z",
     "iopub.status.idle": "2022-12-04T17:20:28.105080Z",
     "shell.execute_reply": "2022-12-04T17:20:28.104396Z",
     "shell.execute_reply.started": "2022-12-04T17:20:27.725898Z"
    }
   },
   "outputs": [
    {
     "data": {
      "image/png": "[encoded data removed]",
      "text/plain": [
       "<Figure size 640x480 with 1 Axes>"
      ]
     },
     "metadata": {},
     "output_type": "display_data"
    }
   ],
   "source": [
    "y_pred_proba = model.predict_proba(X_test)[::,1]\n",
    "fpr, tpr, _ = metrics.roc_curve(y_test,  y_pred_proba)\n",
    "roc_auc = metrics.auc(fpr, tpr)\n",
    "plt.figure()\n",
    "lw = 2\n",
    "plt.plot(\n",
    "    fpr,\n",
    "    tpr,\n",
    "    color=\"darkorange\",\n",
    "    lw=lw,\n",
    "    label=\"ROC curve (area = %0.2f)\" % roc_auc,\n",
    ")\n",
    "plt.plot([0, 1], [0, 1], color=\"navy\", lw=lw, linestyle=\"--\")\n",
    "plt.xlabel(\"False Positive Rate\")\n",
    "plt.ylabel(\"True Positive Rate\")\n",
    "plt.title(\"Receiver operating characteristic example\")\n",
    "plt.legend(loc=\"lower right\")\n",
    "plt.show()"
   ]
  },
  {
   "cell_type": "code",
   "execution_count": 49,
   "metadata": {
    "execution": {
     "iopub.status.busy": "2022-12-04T17:19:07.604638Z",
     "iopub.status.idle": "2022-12-04T17:19:07.605026Z",
     "shell.execute_reply": "2022-12-04T17:19:07.604836Z",
     "shell.execute_reply.started": "2022-12-04T17:19:07.604815Z"
    }
   },
   "outputs": [],
   "source": [
    "#Dataset\n",
    "#https://www.kaggle.com/datasets/kartik2112/fraud-detection"
   ]
  },
  {
   "cell_type": "code",
   "execution_count": 50,
   "metadata": {
    "execution": {
     "iopub.execute_input": "2022-12-04T17:20:28.106965Z",
     "iopub.status.busy": "2022-12-04T17:20:28.106472Z",
     "iopub.status.idle": "2022-12-04T17:20:32.673938Z",
     "shell.execute_reply": "2022-12-04T17:20:32.673303Z",
     "shell.execute_reply.started": "2022-12-04T17:20:28.106925Z"
    }
   },
   "outputs": [],
   "source": [
    "from numpy import loadtxt\n",
    "from xgboost import XGBClassifier\n",
    "\n",
    "# fit model no training data\n",
    "clf = XGBClassifier()\n",
    "\n",
    "# Train Decision Tree Classifer\n",
    "clf = clf.fit(X_train,y_train)\n",
    "\n",
    "#Predict the response for test dataset\n",
    "y_pred = clf.predict(X_test)"
   ]
  },
  {
   "cell_type": "code",
   "execution_count": 51,
   "metadata": {
    "execution": {
     "iopub.execute_input": "2022-12-04T17:20:32.675528Z",
     "iopub.status.busy": "2022-12-04T17:20:32.675263Z",
     "iopub.status.idle": "2022-12-04T17:20:33.290188Z",
     "shell.execute_reply": "2022-12-04T17:20:33.289466Z",
     "shell.execute_reply.started": "2022-12-04T17:20:32.675490Z"
    }
   },
   "outputs": [
    {
     "data": {
      "text/plain": [
       "<AxesSubplot: >"
      ]
     },
     "execution_count": 51,
     "metadata": {},
     "output_type": "execute_result"
    },
    {
     "data": {
      "image/png": "[encoded data removed]",
      "text/plain": [
       "<Figure size 1000x800 with 2 Axes>"
      ]
     },
     "metadata": {},
     "output_type": "display_data"
    }
   ],
   "source": [
    "\n",
    "# Confusion matrix\n",
    "cf=confusion_matrix(y_test,y_pred)\n",
    "plt.figure(figsize=(10,8))\n",
    "sns.heatmap(cf/np.sum(cf), annot=True, \n",
    "            fmt='.2%', cmap='Blues')"
   ]
  },
  {
   "cell_type": "code",
   "execution_count": 52,
   "metadata": {
    "execution": {
     "iopub.execute_input": "2022-12-04T17:20:33.292887Z",
     "iopub.status.busy": "2022-12-04T17:20:33.292609Z",
     "iopub.status.idle": "2022-12-04T17:20:33.822600Z",
     "shell.execute_reply": "2022-12-04T17:20:33.821868Z",
     "shell.execute_reply.started": "2022-12-04T17:20:33.292850Z"
    }
   },
   "outputs": [
    {
     "name": "stdout",
     "output_type": "stream",
     "text": [
      "Classification report\n",
      "              precision    recall  f1-score   support\n",
      "\n",
      "           0       1.00      0.94      0.97    553574\n",
      "           1       0.02      0.25      0.03      2145\n",
      "\n",
      "    accuracy                           0.94    555719\n",
      "   macro avg       0.51      0.60      0.50    555719\n",
      "weighted avg       0.99      0.94      0.97    555719\n",
      "\n"
     ]
    }
   ],
   "source": [
    "\n",
    "print(\"Classification report\")\n",
    "print(classification_report(y_test, y_pred))\n"
   ]
  }
 ],
 "metadata": {
  "kernelspec": {
   "display_name": "Python 3 (ipykernel)",
   "language": "python",
   "name": "python3"
  },
  "language_info": {
   "codemirror_mode": {
    "name": "ipython",
    "version": 3
   },
   "file_extension": ".py",
   "mimetype": "text/x-python",
   "name": "python",
   "nbconvert_exporter": "python",
   "pygments_lexer": "ipython3",
   "version": "3.10.8"
  }
 },
 "nbformat": 4,
 "nbformat_minor": 4
}
